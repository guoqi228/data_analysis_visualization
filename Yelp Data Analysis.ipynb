{
 "cells": [
  {
   "cell_type": "code",
   "execution_count": 9,
   "metadata": {
    "collapsed": true
   },
   "outputs": [],
   "source": [
    "import pandas as pd \n",
    "import seaborn as sns\n",
    "import matplotlib.pyplot as plt\n",
    "%matplotlib inline\n",
    "from matplotlib.pylab import rcParams\n",
    "rcParams['figure.figsize'] = 12, 4\n",
    "#import warnings\n",
    "#warnings.filterwarnings('ignore')\n",
    "pd.set_option('display.max_columns', 500)\n",
    "pd.set_option('display.max_columns', 100)"
   ]
  },
  {
   "cell_type": "code",
   "execution_count": 10,
   "metadata": {
    "collapsed": true
   },
   "outputs": [],
   "source": [
    "business = pd.read_csv('./../Data/yelp_academic_dataset_business.csv')"
   ]
  },
  {
   "cell_type": "code",
   "execution_count": 11,
   "metadata": {
    "collapsed": false
   },
   "outputs": [
    {
     "data": {
      "text/html": [
       "<div>\n",
       "<table border=\"1\" class=\"dataframe\">\n",
       "  <thead>\n",
       "    <tr style=\"text-align: right;\">\n",
       "      <th></th>\n",
       "      <th>neighborhood</th>\n",
       "      <th>business_id</th>\n",
       "      <th>hours</th>\n",
       "      <th>is_open</th>\n",
       "      <th>address</th>\n",
       "      <th>attributes</th>\n",
       "      <th>categories</th>\n",
       "      <th>city</th>\n",
       "      <th>review_count</th>\n",
       "      <th>name</th>\n",
       "      <th>longitude</th>\n",
       "      <th>state</th>\n",
       "      <th>stars</th>\n",
       "      <th>latitude</th>\n",
       "      <th>postal_code</th>\n",
       "      <th>type</th>\n",
       "    </tr>\n",
       "  </thead>\n",
       "  <tbody>\n",
       "    <tr>\n",
       "      <th>0</th>\n",
       "      <td>NaN</td>\n",
       "      <td>0DI8Dt2PJp07XkVvIElIcQ</td>\n",
       "      <td>['Monday 11:0-21:0', 'Tuesday 11:0-21:0', 'Wed...</td>\n",
       "      <td>0</td>\n",
       "      <td>227 E Baseline Rd, Ste J2</td>\n",
       "      <td>['BikeParking: True', 'BusinessAcceptsBitcoin:...</td>\n",
       "      <td>['Tobacco Shops', 'Nightlife', 'Vape Shops', '...</td>\n",
       "      <td>Tempe</td>\n",
       "      <td>17</td>\n",
       "      <td>Innovative Vapors</td>\n",
       "      <td>-111.936102</td>\n",
       "      <td>AZ</td>\n",
       "      <td>4.5</td>\n",
       "      <td>33.378214</td>\n",
       "      <td>85283</td>\n",
       "      <td>business</td>\n",
       "    </tr>\n",
       "    <tr>\n",
       "      <th>1</th>\n",
       "      <td>NaN</td>\n",
       "      <td>LTlCaCGZE14GuaUXUGbamg</td>\n",
       "      <td>['Monday 0:0-0:0', 'Tuesday 0:0-0:0', 'Wednesd...</td>\n",
       "      <td>1</td>\n",
       "      <td>495 S Grand Central Pkwy</td>\n",
       "      <td>['BusinessAcceptsBitcoin: False', 'BusinessAcc...</td>\n",
       "      <td>['Caterers', 'Grocery', 'Food', 'Event Plannin...</td>\n",
       "      <td>Las Vegas</td>\n",
       "      <td>9</td>\n",
       "      <td>Cut and Taste</td>\n",
       "      <td>-115.159272</td>\n",
       "      <td>NV</td>\n",
       "      <td>5.0</td>\n",
       "      <td>36.192284</td>\n",
       "      <td>89106</td>\n",
       "      <td>business</td>\n",
       "    </tr>\n",
       "    <tr>\n",
       "      <th>2</th>\n",
       "      <td>Dufferin Grove</td>\n",
       "      <td>EDqCEAGXVGCH4FJXgqtjqg</td>\n",
       "      <td>['Monday 11:0-2:0', 'Tuesday 11:0-2:0', 'Wedne...</td>\n",
       "      <td>1</td>\n",
       "      <td>979 Bloor Street W</td>\n",
       "      <td>['Alcohol: none', \"Ambience: {'romantic': Fals...</td>\n",
       "      <td>['Restaurants', 'Pizza', 'Chicken Wings', 'Ita...</td>\n",
       "      <td>Toronto</td>\n",
       "      <td>7</td>\n",
       "      <td>Pizza Pizza</td>\n",
       "      <td>-79.429089</td>\n",
       "      <td>ON</td>\n",
       "      <td>2.5</td>\n",
       "      <td>43.661054</td>\n",
       "      <td>M6H 1L5</td>\n",
       "      <td>business</td>\n",
       "    </tr>\n",
       "    <tr>\n",
       "      <th>3</th>\n",
       "      <td>NaN</td>\n",
       "      <td>cnGIivYRLxpF7tBVR_JwWA</td>\n",
       "      <td>['Tuesday 10:0-21:0', 'Wednesday 10:0-21:0', '...</td>\n",
       "      <td>1</td>\n",
       "      <td>7014 Steubenville Pike</td>\n",
       "      <td>['AcceptsInsurance: False', 'BusinessAcceptsCr...</td>\n",
       "      <td>['Hair Removal', 'Beauty &amp; Spas', 'Blow Dry/Ou...</td>\n",
       "      <td>Oakdale</td>\n",
       "      <td>4</td>\n",
       "      <td>Plush Salon and Spa</td>\n",
       "      <td>-80.174540</td>\n",
       "      <td>PA</td>\n",
       "      <td>4.0</td>\n",
       "      <td>40.444544</td>\n",
       "      <td>15071</td>\n",
       "      <td>business</td>\n",
       "    </tr>\n",
       "    <tr>\n",
       "      <th>4</th>\n",
       "      <td>Downtown Core</td>\n",
       "      <td>cdk-qqJ71q6P7TJTww_DSA</td>\n",
       "      <td>NaN</td>\n",
       "      <td>1</td>\n",
       "      <td>321 Jarvis Street</td>\n",
       "      <td>['BusinessAcceptsCreditCards: True', 'Restaura...</td>\n",
       "      <td>['Hotels &amp; Travel', 'Event Planning &amp; Services...</td>\n",
       "      <td>Toronto</td>\n",
       "      <td>8</td>\n",
       "      <td>Comfort Inn</td>\n",
       "      <td>-79.375401</td>\n",
       "      <td>ON</td>\n",
       "      <td>3.0</td>\n",
       "      <td>43.659829</td>\n",
       "      <td>M5B 2C2</td>\n",
       "      <td>business</td>\n",
       "    </tr>\n",
       "  </tbody>\n",
       "</table>\n",
       "</div>"
      ],
      "text/plain": [
       "     neighborhood             business_id  \\\n",
       "0             NaN  0DI8Dt2PJp07XkVvIElIcQ   \n",
       "1             NaN  LTlCaCGZE14GuaUXUGbamg   \n",
       "2  Dufferin Grove  EDqCEAGXVGCH4FJXgqtjqg   \n",
       "3             NaN  cnGIivYRLxpF7tBVR_JwWA   \n",
       "4   Downtown Core  cdk-qqJ71q6P7TJTww_DSA   \n",
       "\n",
       "                                               hours  is_open  \\\n",
       "0  ['Monday 11:0-21:0', 'Tuesday 11:0-21:0', 'Wed...        0   \n",
       "1  ['Monday 0:0-0:0', 'Tuesday 0:0-0:0', 'Wednesd...        1   \n",
       "2  ['Monday 11:0-2:0', 'Tuesday 11:0-2:0', 'Wedne...        1   \n",
       "3  ['Tuesday 10:0-21:0', 'Wednesday 10:0-21:0', '...        1   \n",
       "4                                                NaN        1   \n",
       "\n",
       "                     address  \\\n",
       "0  227 E Baseline Rd, Ste J2   \n",
       "1   495 S Grand Central Pkwy   \n",
       "2         979 Bloor Street W   \n",
       "3     7014 Steubenville Pike   \n",
       "4          321 Jarvis Street   \n",
       "\n",
       "                                          attributes  \\\n",
       "0  ['BikeParking: True', 'BusinessAcceptsBitcoin:...   \n",
       "1  ['BusinessAcceptsBitcoin: False', 'BusinessAcc...   \n",
       "2  ['Alcohol: none', \"Ambience: {'romantic': Fals...   \n",
       "3  ['AcceptsInsurance: False', 'BusinessAcceptsCr...   \n",
       "4  ['BusinessAcceptsCreditCards: True', 'Restaura...   \n",
       "\n",
       "                                          categories       city  review_count  \\\n",
       "0  ['Tobacco Shops', 'Nightlife', 'Vape Shops', '...      Tempe            17   \n",
       "1  ['Caterers', 'Grocery', 'Food', 'Event Plannin...  Las Vegas             9   \n",
       "2  ['Restaurants', 'Pizza', 'Chicken Wings', 'Ita...    Toronto             7   \n",
       "3  ['Hair Removal', 'Beauty & Spas', 'Blow Dry/Ou...    Oakdale             4   \n",
       "4  ['Hotels & Travel', 'Event Planning & Services...    Toronto             8   \n",
       "\n",
       "                  name   longitude state  stars   latitude postal_code  \\\n",
       "0    Innovative Vapors -111.936102    AZ    4.5  33.378214       85283   \n",
       "1        Cut and Taste -115.159272    NV    5.0  36.192284       89106   \n",
       "2          Pizza Pizza  -79.429089    ON    2.5  43.661054     M6H 1L5   \n",
       "3  Plush Salon and Spa  -80.174540    PA    4.0  40.444544       15071   \n",
       "4          Comfort Inn  -79.375401    ON    3.0  43.659829     M5B 2C2   \n",
       "\n",
       "       type  \n",
       "0  business  \n",
       "1  business  \n",
       "2  business  \n",
       "3  business  \n",
       "4  business  "
      ]
     },
     "execution_count": 11,
     "metadata": {},
     "output_type": "execute_result"
    }
   ],
   "source": [
    "business.head(5)"
   ]
  },
  {
   "cell_type": "code",
   "execution_count": 12,
   "metadata": {
    "collapsed": false
   },
   "outputs": [
    {
     "data": {
      "text/plain": [
       "Index([u'neighborhood', u'business_id', u'hours', u'is_open', u'address',\n",
       "       u'attributes', u'categories', u'city', u'review_count', u'name',\n",
       "       u'longitude', u'state', u'stars', u'latitude', u'postal_code', u'type'],\n",
       "      dtype='object')"
      ]
     },
     "execution_count": 12,
     "metadata": {},
     "output_type": "execute_result"
    }
   ],
   "source": [
    "business.columns"
   ]
  },
  {
   "cell_type": "code",
   "execution_count": 13,
   "metadata": {
    "collapsed": false
   },
   "outputs": [
    {
     "data": {
      "text/plain": [
       "(144072, 16)"
      ]
     },
     "execution_count": 13,
     "metadata": {},
     "output_type": "execute_result"
    }
   ],
   "source": [
    "business.shape"
   ]
  },
  {
   "cell_type": "code",
   "execution_count": 14,
   "metadata": {
    "collapsed": false
   },
   "outputs": [
    {
     "data": {
      "text/plain": [
       "neighborhood    86163\n",
       "hours           41608\n",
       "attributes      16910\n",
       "address          4234\n",
       "postal_code       736\n",
       "categories        325\n",
       "city                1\n",
       "type                0\n",
       "latitude            0\n",
       "stars               0\n",
       "state               0\n",
       "longitude           0\n",
       "name                0\n",
       "review_count        0\n",
       "is_open             0\n",
       "business_id         0\n",
       "dtype: int64"
      ]
     },
     "execution_count": 14,
     "metadata": {},
     "output_type": "execute_result"
    }
   ],
   "source": [
    "business.isnull().sum().sort_values(ascending=False)"
   ]
  },
  {
   "cell_type": "markdown",
   "metadata": {},
   "source": [
    "Lots of neighborhood, hours, attributes information are missing! "
   ]
  },
  {
   "cell_type": "code",
   "execution_count": 15,
   "metadata": {
    "collapsed": false
   },
   "outputs": [
    {
     "data": {
      "text/plain": [
       "True"
      ]
     },
     "execution_count": 15,
     "metadata": {},
     "output_type": "execute_result"
    }
   ],
   "source": [
    "business.business_id.is_unique #business_id is all unique"
   ]
  },
  {
   "cell_type": "code",
   "execution_count": 16,
   "metadata": {
    "collapsed": false
   },
   "outputs": [
    {
     "data": {
      "text/plain": [
       "(877,)"
      ]
     },
     "execution_count": 16,
     "metadata": {},
     "output_type": "execute_result"
    }
   ],
   "source": [
    "business.groupby(['city'])['business_id'].agg('count').sort_values(ascending=False).shape"
   ]
  },
  {
   "cell_type": "code",
   "execution_count": 17,
   "metadata": {
    "collapsed": false
   },
   "outputs": [
    {
     "data": {
      "text/html": [
       "<div>\n",
       "<table border=\"1\" class=\"dataframe\">\n",
       "  <thead>\n",
       "    <tr style=\"text-align: right;\">\n",
       "      <th></th>\n",
       "      <th>name</th>\n",
       "      <th>review_count</th>\n",
       "      <th>city</th>\n",
       "      <th>stars</th>\n",
       "    </tr>\n",
       "  </thead>\n",
       "  <tbody>\n",
       "    <tr>\n",
       "      <th>5966</th>\n",
       "      <td>Mon Ami Gabi</td>\n",
       "      <td>6414</td>\n",
       "      <td>Las Vegas</td>\n",
       "      <td>4.0</td>\n",
       "    </tr>\n",
       "    <tr>\n",
       "      <th>4928</th>\n",
       "      <td>Bacchanal Buffet</td>\n",
       "      <td>5715</td>\n",
       "      <td>Las Vegas</td>\n",
       "      <td>4.0</td>\n",
       "    </tr>\n",
       "    <tr>\n",
       "      <th>83176</th>\n",
       "      <td>Wicked Spoon</td>\n",
       "      <td>5216</td>\n",
       "      <td>Las Vegas</td>\n",
       "      <td>3.5</td>\n",
       "    </tr>\n",
       "    <tr>\n",
       "      <th>70469</th>\n",
       "      <td>Gordon Ramsay BurGR</td>\n",
       "      <td>5116</td>\n",
       "      <td>Las Vegas</td>\n",
       "      <td>4.0</td>\n",
       "    </tr>\n",
       "    <tr>\n",
       "      <th>123061</th>\n",
       "      <td>Earl of Sandwich</td>\n",
       "      <td>4655</td>\n",
       "      <td>Las Vegas</td>\n",
       "      <td>4.5</td>\n",
       "    </tr>\n",
       "    <tr>\n",
       "      <th>34945</th>\n",
       "      <td>Gangnam Asian BBQ Dining</td>\n",
       "      <td>4120</td>\n",
       "      <td>Las Vegas</td>\n",
       "      <td>4.5</td>\n",
       "    </tr>\n",
       "    <tr>\n",
       "      <th>90359</th>\n",
       "      <td>Serendipity 3</td>\n",
       "      <td>3911</td>\n",
       "      <td>Las Vegas</td>\n",
       "      <td>3.0</td>\n",
       "    </tr>\n",
       "    <tr>\n",
       "      <th>90174</th>\n",
       "      <td>Hash House A Go Go</td>\n",
       "      <td>3881</td>\n",
       "      <td>Las Vegas</td>\n",
       "      <td>4.0</td>\n",
       "    </tr>\n",
       "    <tr>\n",
       "      <th>73397</th>\n",
       "      <td>The Buffet</td>\n",
       "      <td>3676</td>\n",
       "      <td>Las Vegas</td>\n",
       "      <td>3.5</td>\n",
       "    </tr>\n",
       "    <tr>\n",
       "      <th>123062</th>\n",
       "      <td>The Buffet at Bellagio</td>\n",
       "      <td>3481</td>\n",
       "      <td>Las Vegas</td>\n",
       "      <td>3.5</td>\n",
       "    </tr>\n",
       "    <tr>\n",
       "      <th>81149</th>\n",
       "      <td>Lotus of Siam</td>\n",
       "      <td>3458</td>\n",
       "      <td>Las Vegas</td>\n",
       "      <td>4.0</td>\n",
       "    </tr>\n",
       "    <tr>\n",
       "      <th>85362</th>\n",
       "      <td>The Cosmopolitan of Las Vegas</td>\n",
       "      <td>3400</td>\n",
       "      <td>Las Vegas</td>\n",
       "      <td>4.0</td>\n",
       "    </tr>\n",
       "    <tr>\n",
       "      <th>14230</th>\n",
       "      <td>ARIA Resort &amp; Casino</td>\n",
       "      <td>3385</td>\n",
       "      <td>Las Vegas</td>\n",
       "      <td>3.5</td>\n",
       "    </tr>\n",
       "    <tr>\n",
       "      <th>73395</th>\n",
       "      <td>Bouchon at the Venezia Tower</td>\n",
       "      <td>3292</td>\n",
       "      <td>Las Vegas</td>\n",
       "      <td>4.0</td>\n",
       "    </tr>\n",
       "    <tr>\n",
       "      <th>125435</th>\n",
       "      <td>Secret Pizza</td>\n",
       "      <td>3258</td>\n",
       "      <td>Las Vegas</td>\n",
       "      <td>4.0</td>\n",
       "    </tr>\n",
       "    <tr>\n",
       "      <th>141134</th>\n",
       "      <td>Luxor Hotel and Casino Las Vegas</td>\n",
       "      <td>3166</td>\n",
       "      <td>Las Vegas</td>\n",
       "      <td>2.5</td>\n",
       "    </tr>\n",
       "    <tr>\n",
       "      <th>88059</th>\n",
       "      <td>MGM Grand Hotel</td>\n",
       "      <td>3015</td>\n",
       "      <td>Las Vegas</td>\n",
       "      <td>3.0</td>\n",
       "    </tr>\n",
       "    <tr>\n",
       "      <th>133074</th>\n",
       "      <td>McCarran International Airport</td>\n",
       "      <td>2865</td>\n",
       "      <td>Las Vegas</td>\n",
       "      <td>3.5</td>\n",
       "    </tr>\n",
       "    <tr>\n",
       "      <th>117520</th>\n",
       "      <td>Hash House A Go Go</td>\n",
       "      <td>2835</td>\n",
       "      <td>Las Vegas</td>\n",
       "      <td>4.0</td>\n",
       "    </tr>\n",
       "    <tr>\n",
       "      <th>87856</th>\n",
       "      <td>XS Nightclub</td>\n",
       "      <td>2828</td>\n",
       "      <td>Las Vegas</td>\n",
       "      <td>4.0</td>\n",
       "    </tr>\n",
       "    <tr>\n",
       "      <th>68894</th>\n",
       "      <td>The Venetian Las Vegas</td>\n",
       "      <td>2779</td>\n",
       "      <td>Las Vegas</td>\n",
       "      <td>4.0</td>\n",
       "    </tr>\n",
       "    <tr>\n",
       "      <th>76239</th>\n",
       "      <td>Mesa Grill</td>\n",
       "      <td>2771</td>\n",
       "      <td>Las Vegas</td>\n",
       "      <td>4.0</td>\n",
       "    </tr>\n",
       "    <tr>\n",
       "      <th>119561</th>\n",
       "      <td>Bachi Burger</td>\n",
       "      <td>2735</td>\n",
       "      <td>Las Vegas</td>\n",
       "      <td>4.0</td>\n",
       "    </tr>\n",
       "    <tr>\n",
       "      <th>65693</th>\n",
       "      <td>Gordon Ramsay Steak</td>\n",
       "      <td>2700</td>\n",
       "      <td>Las Vegas</td>\n",
       "      <td>4.0</td>\n",
       "    </tr>\n",
       "    <tr>\n",
       "      <th>76236</th>\n",
       "      <td>Flamingo Las Vegas Hotel &amp; Casino</td>\n",
       "      <td>2498</td>\n",
       "      <td>Las Vegas</td>\n",
       "      <td>2.5</td>\n",
       "    </tr>\n",
       "    <tr>\n",
       "      <th>58585</th>\n",
       "      <td>Holsteins Shakes and Buns</td>\n",
       "      <td>2474</td>\n",
       "      <td>Las Vegas</td>\n",
       "      <td>4.0</td>\n",
       "    </tr>\n",
       "    <tr>\n",
       "      <th>72741</th>\n",
       "      <td>Bellagio Hotel</td>\n",
       "      <td>2451</td>\n",
       "      <td>Las Vegas</td>\n",
       "      <td>4.0</td>\n",
       "    </tr>\n",
       "    <tr>\n",
       "      <th>126853</th>\n",
       "      <td>Planet Hollywood Las Vegas Resort &amp; Casino</td>\n",
       "      <td>2436</td>\n",
       "      <td>Las Vegas</td>\n",
       "      <td>3.0</td>\n",
       "    </tr>\n",
       "    <tr>\n",
       "      <th>139479</th>\n",
       "      <td>El Dorado Cantina</td>\n",
       "      <td>2316</td>\n",
       "      <td>Las Vegas</td>\n",
       "      <td>4.5</td>\n",
       "    </tr>\n",
       "    <tr>\n",
       "      <th>66873</th>\n",
       "      <td>Burger Bar</td>\n",
       "      <td>2313</td>\n",
       "      <td>Las Vegas</td>\n",
       "      <td>4.0</td>\n",
       "    </tr>\n",
       "    <tr>\n",
       "      <th>74130</th>\n",
       "      <td>Mandalay Bay Resort &amp; Casino</td>\n",
       "      <td>2305</td>\n",
       "      <td>Las Vegas</td>\n",
       "      <td>3.5</td>\n",
       "    </tr>\n",
       "    <tr>\n",
       "      <th>112004</th>\n",
       "      <td>Egg &amp; I</td>\n",
       "      <td>2303</td>\n",
       "      <td>Las Vegas</td>\n",
       "      <td>4.5</td>\n",
       "    </tr>\n",
       "    <tr>\n",
       "      <th>83247</th>\n",
       "      <td>The Peppermill Restaurant &amp; Fireside Lounge</td>\n",
       "      <td>2260</td>\n",
       "      <td>Las Vegas</td>\n",
       "      <td>4.0</td>\n",
       "    </tr>\n",
       "    <tr>\n",
       "      <th>103490</th>\n",
       "      <td>Pho Kim Long</td>\n",
       "      <td>2247</td>\n",
       "      <td>Las Vegas</td>\n",
       "      <td>3.5</td>\n",
       "    </tr>\n",
       "    <tr>\n",
       "      <th>116401</th>\n",
       "      <td>Grand Lux Cafe</td>\n",
       "      <td>2218</td>\n",
       "      <td>Las Vegas</td>\n",
       "      <td>4.0</td>\n",
       "    </tr>\n",
       "    <tr>\n",
       "      <th>67075</th>\n",
       "      <td>Excalibur Hotel</td>\n",
       "      <td>2214</td>\n",
       "      <td>Las Vegas</td>\n",
       "      <td>2.5</td>\n",
       "    </tr>\n",
       "    <tr>\n",
       "      <th>81906</th>\n",
       "      <td>Wynn Las Vegas</td>\n",
       "      <td>2150</td>\n",
       "      <td>Las Vegas</td>\n",
       "      <td>4.0</td>\n",
       "    </tr>\n",
       "    <tr>\n",
       "      <th>123791</th>\n",
       "      <td>Gordon Ramsay Pub &amp; Grill</td>\n",
       "      <td>2111</td>\n",
       "      <td>Las Vegas</td>\n",
       "      <td>3.5</td>\n",
       "    </tr>\n",
       "    <tr>\n",
       "      <th>95340</th>\n",
       "      <td>Caesars Palace Las Vegas Hotel &amp; Casino</td>\n",
       "      <td>2096</td>\n",
       "      <td>Las Vegas</td>\n",
       "      <td>3.0</td>\n",
       "    </tr>\n",
       "    <tr>\n",
       "      <th>77425</th>\n",
       "      <td>Shake Shack</td>\n",
       "      <td>2091</td>\n",
       "      <td>Las Vegas</td>\n",
       "      <td>4.0</td>\n",
       "    </tr>\n",
       "    <tr>\n",
       "      <th>881</th>\n",
       "      <td>Monte Carlo Hotel And Casino</td>\n",
       "      <td>2080</td>\n",
       "      <td>Las Vegas</td>\n",
       "      <td>3.0</td>\n",
       "    </tr>\n",
       "    <tr>\n",
       "      <th>108741</th>\n",
       "      <td>Vdara Hotel</td>\n",
       "      <td>2069</td>\n",
       "      <td>Las Vegas</td>\n",
       "      <td>4.0</td>\n",
       "    </tr>\n",
       "    <tr>\n",
       "      <th>125702</th>\n",
       "      <td>Guy Fieri's Vegas Kitchen &amp; Bar</td>\n",
       "      <td>2067</td>\n",
       "      <td>Las Vegas</td>\n",
       "      <td>3.5</td>\n",
       "    </tr>\n",
       "    <tr>\n",
       "      <th>71051</th>\n",
       "      <td>Tao Nightclub</td>\n",
       "      <td>2056</td>\n",
       "      <td>Las Vegas</td>\n",
       "      <td>3.0</td>\n",
       "    </tr>\n",
       "    <tr>\n",
       "      <th>87377</th>\n",
       "      <td>The Palazzo Las Vegas</td>\n",
       "      <td>2028</td>\n",
       "      <td>Las Vegas</td>\n",
       "      <td>4.0</td>\n",
       "    </tr>\n",
       "    <tr>\n",
       "      <th>79769</th>\n",
       "      <td>Marquee</td>\n",
       "      <td>2014</td>\n",
       "      <td>Las Vegas</td>\n",
       "      <td>3.5</td>\n",
       "    </tr>\n",
       "    <tr>\n",
       "      <th>75225</th>\n",
       "      <td>Treasure Island</td>\n",
       "      <td>2006</td>\n",
       "      <td>Las Vegas</td>\n",
       "      <td>3.0</td>\n",
       "    </tr>\n",
       "    <tr>\n",
       "      <th>127630</th>\n",
       "      <td>Rollin Smoke Barbeque</td>\n",
       "      <td>1996</td>\n",
       "      <td>Las Vegas</td>\n",
       "      <td>4.5</td>\n",
       "    </tr>\n",
       "    <tr>\n",
       "      <th>142007</th>\n",
       "      <td>Phoenix Sky Harbor International Airport</td>\n",
       "      <td>1977</td>\n",
       "      <td>Phoenix</td>\n",
       "      <td>3.0</td>\n",
       "    </tr>\n",
       "    <tr>\n",
       "      <th>105701</th>\n",
       "      <td>Monta Ramen</td>\n",
       "      <td>1972</td>\n",
       "      <td>Las Vegas</td>\n",
       "      <td>4.0</td>\n",
       "    </tr>\n",
       "  </tbody>\n",
       "</table>\n",
       "</div>"
      ],
      "text/plain": [
       "                                               name  review_count       city  \\\n",
       "5966                                   Mon Ami Gabi          6414  Las Vegas   \n",
       "4928                               Bacchanal Buffet          5715  Las Vegas   \n",
       "83176                                  Wicked Spoon          5216  Las Vegas   \n",
       "70469                           Gordon Ramsay BurGR          5116  Las Vegas   \n",
       "123061                             Earl of Sandwich          4655  Las Vegas   \n",
       "34945                      Gangnam Asian BBQ Dining          4120  Las Vegas   \n",
       "90359                                 Serendipity 3          3911  Las Vegas   \n",
       "90174                            Hash House A Go Go          3881  Las Vegas   \n",
       "73397                                    The Buffet          3676  Las Vegas   \n",
       "123062                       The Buffet at Bellagio          3481  Las Vegas   \n",
       "81149                                 Lotus of Siam          3458  Las Vegas   \n",
       "85362                 The Cosmopolitan of Las Vegas          3400  Las Vegas   \n",
       "14230                          ARIA Resort & Casino          3385  Las Vegas   \n",
       "73395                  Bouchon at the Venezia Tower          3292  Las Vegas   \n",
       "125435                                 Secret Pizza          3258  Las Vegas   \n",
       "141134             Luxor Hotel and Casino Las Vegas          3166  Las Vegas   \n",
       "88059                               MGM Grand Hotel          3015  Las Vegas   \n",
       "133074               McCarran International Airport          2865  Las Vegas   \n",
       "117520                           Hash House A Go Go          2835  Las Vegas   \n",
       "87856                                  XS Nightclub          2828  Las Vegas   \n",
       "68894                        The Venetian Las Vegas          2779  Las Vegas   \n",
       "76239                                    Mesa Grill          2771  Las Vegas   \n",
       "119561                                 Bachi Burger          2735  Las Vegas   \n",
       "65693                           Gordon Ramsay Steak          2700  Las Vegas   \n",
       "76236             Flamingo Las Vegas Hotel & Casino          2498  Las Vegas   \n",
       "58585                     Holsteins Shakes and Buns          2474  Las Vegas   \n",
       "72741                                Bellagio Hotel          2451  Las Vegas   \n",
       "126853   Planet Hollywood Las Vegas Resort & Casino          2436  Las Vegas   \n",
       "139479                            El Dorado Cantina          2316  Las Vegas   \n",
       "66873                                    Burger Bar          2313  Las Vegas   \n",
       "74130                  Mandalay Bay Resort & Casino          2305  Las Vegas   \n",
       "112004                                      Egg & I          2303  Las Vegas   \n",
       "83247   The Peppermill Restaurant & Fireside Lounge          2260  Las Vegas   \n",
       "103490                                 Pho Kim Long          2247  Las Vegas   \n",
       "116401                               Grand Lux Cafe          2218  Las Vegas   \n",
       "67075                               Excalibur Hotel          2214  Las Vegas   \n",
       "81906                                Wynn Las Vegas          2150  Las Vegas   \n",
       "123791                    Gordon Ramsay Pub & Grill          2111  Las Vegas   \n",
       "95340       Caesars Palace Las Vegas Hotel & Casino          2096  Las Vegas   \n",
       "77425                                   Shake Shack          2091  Las Vegas   \n",
       "881                    Monte Carlo Hotel And Casino          2080  Las Vegas   \n",
       "108741                                  Vdara Hotel          2069  Las Vegas   \n",
       "125702              Guy Fieri's Vegas Kitchen & Bar          2067  Las Vegas   \n",
       "71051                                 Tao Nightclub          2056  Las Vegas   \n",
       "87377                         The Palazzo Las Vegas          2028  Las Vegas   \n",
       "79769                                       Marquee          2014  Las Vegas   \n",
       "75225                               Treasure Island          2006  Las Vegas   \n",
       "127630                        Rollin Smoke Barbeque          1996  Las Vegas   \n",
       "142007     Phoenix Sky Harbor International Airport          1977    Phoenix   \n",
       "105701                                  Monta Ramen          1972  Las Vegas   \n",
       "\n",
       "        stars  \n",
       "5966      4.0  \n",
       "4928      4.0  \n",
       "83176     3.5  \n",
       "70469     4.0  \n",
       "123061    4.5  \n",
       "34945     4.5  \n",
       "90359     3.0  \n",
       "90174     4.0  \n",
       "73397     3.5  \n",
       "123062    3.5  \n",
       "81149     4.0  \n",
       "85362     4.0  \n",
       "14230     3.5  \n",
       "73395     4.0  \n",
       "125435    4.0  \n",
       "141134    2.5  \n",
       "88059     3.0  \n",
       "133074    3.5  \n",
       "117520    4.0  \n",
       "87856     4.0  \n",
       "68894     4.0  \n",
       "76239     4.0  \n",
       "119561    4.0  \n",
       "65693     4.0  \n",
       "76236     2.5  \n",
       "58585     4.0  \n",
       "72741     4.0  \n",
       "126853    3.0  \n",
       "139479    4.5  \n",
       "66873     4.0  \n",
       "74130     3.5  \n",
       "112004    4.5  \n",
       "83247     4.0  \n",
       "103490    3.5  \n",
       "116401    4.0  \n",
       "67075     2.5  \n",
       "81906     4.0  \n",
       "123791    3.5  \n",
       "95340     3.0  \n",
       "77425     4.0  \n",
       "881       3.0  \n",
       "108741    4.0  \n",
       "125702    3.5  \n",
       "71051     3.0  \n",
       "87377     4.0  \n",
       "79769     3.5  \n",
       "75225     3.0  \n",
       "127630    4.5  \n",
       "142007    3.0  \n",
       "105701    4.0  "
      ]
     },
     "execution_count": 17,
     "metadata": {},
     "output_type": "execute_result"
    }
   ],
   "source": [
    "business[['name', 'review_count', 'city', 'stars']].sort_values(ascending=False, by=\"review_count\")[0:50]"
   ]
  },
  {
   "cell_type": "code",
   "execution_count": 18,
   "metadata": {
    "collapsed": false
   },
   "outputs": [],
   "source": [
    "city_business_counts = business[['city', 'business_id']].groupby(['city'])['business_id'].agg('count').sort_values(ascending=False)"
   ]
  },
  {
   "cell_type": "code",
   "execution_count": 19,
   "metadata": {
    "collapsed": false
   },
   "outputs": [],
   "source": [
    "city_business_counts = pd.DataFrame(data=city_business_counts)"
   ]
  },
  {
   "cell_type": "code",
   "execution_count": 20,
   "metadata": {
    "collapsed": false
   },
   "outputs": [],
   "source": [
    "city_business_counts.rename(columns={'business_id' : 'number_of_businesses'}, inplace=True)"
   ]
  },
  {
   "cell_type": "code",
   "execution_count": 21,
   "metadata": {
    "collapsed": false
   },
   "outputs": [
    {
     "data": {
      "text/html": [
       "<div>\n",
       "<table border=\"1\" class=\"dataframe\">\n",
       "  <thead>\n",
       "    <tr style=\"text-align: right;\">\n",
       "      <th></th>\n",
       "      <th>number_of_businesses</th>\n",
       "    </tr>\n",
       "    <tr>\n",
       "      <th>city</th>\n",
       "      <th></th>\n",
       "    </tr>\n",
       "  </thead>\n",
       "  <tbody>\n",
       "    <tr>\n",
       "      <th>Las Vegas</th>\n",
       "      <td>22892</td>\n",
       "    </tr>\n",
       "    <tr>\n",
       "      <th>Toronto</th>\n",
       "      <td>14540</td>\n",
       "    </tr>\n",
       "    <tr>\n",
       "      <th>Phoenix</th>\n",
       "      <td>14468</td>\n",
       "    </tr>\n",
       "    <tr>\n",
       "      <th>Scottsdale</th>\n",
       "      <td>6917</td>\n",
       "    </tr>\n",
       "    <tr>\n",
       "      <th>Charlotte</th>\n",
       "      <td>6912</td>\n",
       "    </tr>\n",
       "    <tr>\n",
       "      <th>Pittsburgh</th>\n",
       "      <td>5275</td>\n",
       "    </tr>\n",
       "    <tr>\n",
       "      <th>Montréal</th>\n",
       "      <td>4785</td>\n",
       "    </tr>\n",
       "    <tr>\n",
       "      <th>Mesa</th>\n",
       "      <td>4714</td>\n",
       "    </tr>\n",
       "    <tr>\n",
       "      <th>Henderson</th>\n",
       "      <td>3788</td>\n",
       "    </tr>\n",
       "    <tr>\n",
       "      <th>Tempe</th>\n",
       "      <td>3703</td>\n",
       "    </tr>\n",
       "  </tbody>\n",
       "</table>\n",
       "</div>"
      ],
      "text/plain": [
       "            number_of_businesses\n",
       "city                            \n",
       "Las Vegas                  22892\n",
       "Toronto                    14540\n",
       "Phoenix                    14468\n",
       "Scottsdale                  6917\n",
       "Charlotte                   6912\n",
       "Pittsburgh                  5275\n",
       "Montréal                    4785\n",
       "Mesa                        4714\n",
       "Henderson                   3788\n",
       "Tempe                       3703"
      ]
     },
     "execution_count": 21,
     "metadata": {},
     "output_type": "execute_result"
    }
   ],
   "source": [
    "city_business_counts.head(10)"
   ]
  },
  {
   "cell_type": "code",
   "execution_count": 22,
   "metadata": {
    "collapsed": false
   },
   "outputs": [],
   "source": [
    "import numpy as np"
   ]
  },
  {
   "cell_type": "code",
   "execution_count": 23,
   "metadata": {
    "collapsed": true
   },
   "outputs": [],
   "source": [
    "import sys  \n",
    "reload(sys)  \n",
    "sys.setdefaultencoding('utf8') #This is needed otherwise u'Montréal' caused issues!"
   ]
  },
  {
   "cell_type": "code",
   "execution_count": 24,
   "metadata": {
    "collapsed": false
   },
   "outputs": [
    {
     "data": {
      "text/plain": [
       "<matplotlib.text.Text at 0x1043d7690>"
      ]
     },
     "execution_count": 24,
     "metadata": {},
     "output_type": "execute_result"
    },
    {
     "data": {
      "image/png": "[encoded data removed]",
      "text/plain": [
       "<matplotlib.figure.Figure at 0x10459eb10>"
      ]
     },
     "metadata": {},
     "output_type": "display_data"
    }
   ],
   "source": [
    "city_business_counts[0:50].sort_values(ascending=False, by=\"number_of_businesses\").plot(kind='barh', stacked=False, figsize=[5,10], colormap='winter')\n",
    "plt.title('Top 50 cities by businesses listed')"
   ]
  },
  {
   "cell_type": "markdown",
   "metadata": {},
   "source": [
    "Most of the businesses listed are in major North American cities likes Las Vegas, Toronto, and Phoenix! "
   ]
  },
  {
   "cell_type": "code",
   "execution_count": 25,
   "metadata": {
    "collapsed": false
   },
   "outputs": [
    {
     "data": {
      "text/html": [
       "<div>\n",
       "<table border=\"1\" class=\"dataframe\">\n",
       "  <thead>\n",
       "    <tr style=\"text-align: right;\">\n",
       "      <th></th>\n",
       "      <th>review_count</th>\n",
       "      <th>stars</th>\n",
       "    </tr>\n",
       "    <tr>\n",
       "      <th>city</th>\n",
       "      <th></th>\n",
       "      <th></th>\n",
       "    </tr>\n",
       "  </thead>\n",
       "  <tbody>\n",
       "    <tr>\n",
       "      <th>Las Vegas</th>\n",
       "      <td>1295478</td>\n",
       "      <td>3.698432</td>\n",
       "    </tr>\n",
       "    <tr>\n",
       "      <th>Phoenix</th>\n",
       "      <td>456673</td>\n",
       "      <td>3.672380</td>\n",
       "    </tr>\n",
       "    <tr>\n",
       "      <th>Toronto</th>\n",
       "      <td>349695</td>\n",
       "      <td>3.515750</td>\n",
       "    </tr>\n",
       "    <tr>\n",
       "      <th>Scottsdale</th>\n",
       "      <td>245105</td>\n",
       "      <td>3.929666</td>\n",
       "    </tr>\n",
       "    <tr>\n",
       "      <th>Charlotte</th>\n",
       "      <td>183463</td>\n",
       "      <td>3.570674</td>\n",
       "    </tr>\n",
       "    <tr>\n",
       "      <th>Pittsburgh</th>\n",
       "      <td>143116</td>\n",
       "      <td>3.650047</td>\n",
       "    </tr>\n",
       "    <tr>\n",
       "      <th>Tempe</th>\n",
       "      <td>129786</td>\n",
       "      <td>3.700108</td>\n",
       "    </tr>\n",
       "    <tr>\n",
       "      <th>Henderson</th>\n",
       "      <td>126750</td>\n",
       "      <td>3.757524</td>\n",
       "    </tr>\n",
       "    <tr>\n",
       "      <th>Mesa</th>\n",
       "      <td>97842</td>\n",
       "      <td>3.619538</td>\n",
       "    </tr>\n",
       "    <tr>\n",
       "      <th>Montréal</th>\n",
       "      <td>96510</td>\n",
       "      <td>3.712748</td>\n",
       "    </tr>\n",
       "  </tbody>\n",
       "</table>\n",
       "</div>"
      ],
      "text/plain": [
       "            review_count     stars\n",
       "city                              \n",
       "Las Vegas        1295478  3.698432\n",
       "Phoenix           456673  3.672380\n",
       "Toronto           349695  3.515750\n",
       "Scottsdale        245105  3.929666\n",
       "Charlotte         183463  3.570674\n",
       "Pittsburgh        143116  3.650047\n",
       "Tempe             129786  3.700108\n",
       "Henderson         126750  3.757524\n",
       "Mesa               97842  3.619538\n",
       "Montréal           96510  3.712748"
      ]
     },
     "execution_count": 25,
     "metadata": {},
     "output_type": "execute_result"
    }
   ],
   "source": [
    "city_business_reviews = business[['city', 'review_count', 'stars']].groupby(['city']).agg({'review_count': 'sum', 'stars': 'mean'}).sort_values(by='review_count', ascending=False)\n",
    "city_business_reviews.head(10)"
   ]
  },
  {
   "cell_type": "code",
   "execution_count": 26,
   "metadata": {
    "collapsed": false
   },
   "outputs": [
    {
     "data": {
      "text/plain": [
       "<matplotlib.text.Text at 0x10fd97b50>"
      ]
     },
     "execution_count": 26,
     "metadata": {},
     "output_type": "execute_result"
    },
    {
     "data": {
      "image/png": "[encoded data removed]",
      "text/plain": [
       "<matplotlib.figure.Figure at 0x10f851350>"
      ]
     },
     "metadata": {},
     "output_type": "display_data"
    }
   ],
   "source": [
    "city_business_reviews['review_count'][0:50].plot(kind='barh', stacked=False, figsize=[5,10], colormap='winter')\n",
    "plt.title('Top 50 cities by reviews')"
   ]
  },
  {
   "cell_type": "code",
   "execution_count": 27,
   "metadata": {
    "collapsed": false
   },
   "outputs": [
    {
     "data": {
      "text/plain": [
       "<matplotlib.text.Text at 0x112a935d0>"
      ]
     },
     "execution_count": 27,
     "metadata": {},
     "output_type": "execute_result"
    },
    {
     "data": {
      "image/png": "[encoded data removed]",
      "text/plain": [
       "<matplotlib.figure.Figure at 0x110533250>"
      ]
     },
     "metadata": {},
     "output_type": "display_data"
    }
   ],
   "source": [
    "city_business_reviews[city_business_reviews.review_count > 50000]['stars'].sort_values().plot(kind='barh', stacked=False, figsize=[5,5], colormap='winter')\n",
    "plt.title('Cities with greater than 50k reviews ranked by average stars')"
   ]
  },
  {
   "cell_type": "code",
   "execution_count": 28,
   "metadata": {
    "collapsed": false
   },
   "outputs": [
    {
     "data": {
      "text/plain": [
       "4.0    29481\n",
       "3.5    26753\n",
       "5.0    21041\n",
       "3.0    20541\n",
       "4.5    20387\n",
       "2.5    12594\n",
       "2.0     7577\n",
       "1.5     3252\n",
       "1.0     2446\n",
       "Name: stars, dtype: int64"
      ]
     },
     "execution_count": 28,
     "metadata": {},
     "output_type": "execute_result"
    }
   ],
   "source": [
    "business['stars'].value_counts()"
   ]
  },
  {
   "cell_type": "code",
   "execution_count": 29,
   "metadata": {
    "collapsed": false
   },
   "outputs": [
    {
     "data": {
      "text/plain": [
       "<matplotlib.axes._subplots.AxesSubplot at 0x10f85cfd0>"
      ]
     },
     "execution_count": 29,
     "metadata": {},
     "output_type": "execute_result"
    },
    {
     "data": {
      "image/png": "[encoded data removed]",
      "text/plain": [
       "<matplotlib.figure.Figure at 0x10f866110>"
      ]
     },
     "metadata": {},
     "output_type": "display_data"
    }
   ],
   "source": [
    "sns.distplot(business.stars, kde=False)"
   ]
  },
  {
   "cell_type": "code",
   "execution_count": 30,
   "metadata": {
    "collapsed": false
   },
   "outputs": [
    {
     "data": {
      "text/plain": [
       "1    122505\n",
       "0     21567\n",
       "Name: is_open, dtype: int64"
      ]
     },
     "execution_count": 30,
     "metadata": {},
     "output_type": "execute_result"
    }
   ],
   "source": [
    "business['is_open'].value_counts()"
   ]
  },
  {
   "cell_type": "code",
   "execution_count": 31,
   "metadata": {
    "collapsed": true
   },
   "outputs": [],
   "source": [
    "tip = pd.read_csv('./../Data/yelp_academic_dataset_tip.csv')"
   ]
  },
  {
   "cell_type": "code",
   "execution_count": 32,
   "metadata": {
    "collapsed": false
   },
   "outputs": [
    {
     "data": {
      "text/html": [
       "<div>\n",
       "<table border=\"1\" class=\"dataframe\">\n",
       "  <thead>\n",
       "    <tr style=\"text-align: right;\">\n",
       "      <th></th>\n",
       "      <th>user_id</th>\n",
       "      <th>text</th>\n",
       "      <th>business_id</th>\n",
       "      <th>likes</th>\n",
       "      <th>date</th>\n",
       "      <th>type</th>\n",
       "    </tr>\n",
       "  </thead>\n",
       "  <tbody>\n",
       "    <tr>\n",
       "      <th>0</th>\n",
       "      <td>zcTZk7OG8ovAmh_fenH21g</td>\n",
       "      <td>Get here early enough to have dinner.</td>\n",
       "      <td>tJRDll5yqpZwehenzE2cSg</td>\n",
       "      <td>0</td>\n",
       "      <td>2012-07-15</td>\n",
       "      <td>tip</td>\n",
       "    </tr>\n",
       "    <tr>\n",
       "      <th>1</th>\n",
       "      <td>ZcLKXikTHYOnYt5VYRO5sg</td>\n",
       "      <td>Great breakfast large portions and friendly wa...</td>\n",
       "      <td>jH19V2I9fIslnNhDzPmdkA</td>\n",
       "      <td>0</td>\n",
       "      <td>2015-08-12</td>\n",
       "      <td>tip</td>\n",
       "    </tr>\n",
       "    <tr>\n",
       "      <th>2</th>\n",
       "      <td>oaYhjqBbh18ZhU0bpyzSuw</td>\n",
       "      <td>Nice place. Great staff.  A fixture in the tow...</td>\n",
       "      <td>dAa0hB2yrnHzVmsCkN4YvQ</td>\n",
       "      <td>0</td>\n",
       "      <td>2014-06-20</td>\n",
       "      <td>tip</td>\n",
       "    </tr>\n",
       "    <tr>\n",
       "      <th>3</th>\n",
       "      <td>ulQ8Nyj7jCUR8M83SUMoRQ</td>\n",
       "      <td>Happy hour 5-7 Monday - Friday</td>\n",
       "      <td>dAa0hB2yrnHzVmsCkN4YvQ</td>\n",
       "      <td>0</td>\n",
       "      <td>2016-10-12</td>\n",
       "      <td>tip</td>\n",
       "    </tr>\n",
       "    <tr>\n",
       "      <th>4</th>\n",
       "      <td>ulQ8Nyj7jCUR8M83SUMoRQ</td>\n",
       "      <td>Come early on Sunday's to avoid the rush</td>\n",
       "      <td>SqW3igh1_Png336VIb5DUA</td>\n",
       "      <td>0</td>\n",
       "      <td>2016-07-03</td>\n",
       "      <td>tip</td>\n",
       "    </tr>\n",
       "    <tr>\n",
       "      <th>5</th>\n",
       "      <td>ulQ8Nyj7jCUR8M83SUMoRQ</td>\n",
       "      <td>Love their soup!</td>\n",
       "      <td>KNpcPGqDORDdvtekXd348w</td>\n",
       "      <td>0</td>\n",
       "      <td>2016-01-07</td>\n",
       "      <td>tip</td>\n",
       "    </tr>\n",
       "    <tr>\n",
       "      <th>6</th>\n",
       "      <td>ulQ8Nyj7jCUR8M83SUMoRQ</td>\n",
       "      <td>Soups are fantastic!</td>\n",
       "      <td>KNpcPGqDORDdvtekXd348w</td>\n",
       "      <td>0</td>\n",
       "      <td>2016-05-22</td>\n",
       "      <td>tip</td>\n",
       "    </tr>\n",
       "    <tr>\n",
       "      <th>7</th>\n",
       "      <td>ulQ8Nyj7jCUR8M83SUMoRQ</td>\n",
       "      <td>Thursday night is $5 burger night</td>\n",
       "      <td>KNpcPGqDORDdvtekXd348w</td>\n",
       "      <td>0</td>\n",
       "      <td>2016-06-09</td>\n",
       "      <td>tip</td>\n",
       "    </tr>\n",
       "    <tr>\n",
       "      <th>8</th>\n",
       "      <td>ulQ8Nyj7jCUR8M83SUMoRQ</td>\n",
       "      <td>Very good for lunch, bread and soup are excellent</td>\n",
       "      <td>8qNOI6Q1-rJrvWWD5Btz6w</td>\n",
       "      <td>0</td>\n",
       "      <td>2016-06-01</td>\n",
       "      <td>tip</td>\n",
       "    </tr>\n",
       "    <tr>\n",
       "      <th>9</th>\n",
       "      <td>ulQ8Nyj7jCUR8M83SUMoRQ</td>\n",
       "      <td>Tuesday spaghetti special  all day $5.59 inclu...</td>\n",
       "      <td>8qNOI6Q1-rJrvWWD5Btz6w</td>\n",
       "      <td>0</td>\n",
       "      <td>2016-06-14</td>\n",
       "      <td>tip</td>\n",
       "    </tr>\n",
       "  </tbody>\n",
       "</table>\n",
       "</div>"
      ],
      "text/plain": [
       "                  user_id                                               text  \\\n",
       "0  zcTZk7OG8ovAmh_fenH21g              Get here early enough to have dinner.   \n",
       "1  ZcLKXikTHYOnYt5VYRO5sg  Great breakfast large portions and friendly wa...   \n",
       "2  oaYhjqBbh18ZhU0bpyzSuw  Nice place. Great staff.  A fixture in the tow...   \n",
       "3  ulQ8Nyj7jCUR8M83SUMoRQ                     Happy hour 5-7 Monday - Friday   \n",
       "4  ulQ8Nyj7jCUR8M83SUMoRQ           Come early on Sunday's to avoid the rush   \n",
       "5  ulQ8Nyj7jCUR8M83SUMoRQ                                   Love their soup!   \n",
       "6  ulQ8Nyj7jCUR8M83SUMoRQ                               Soups are fantastic!   \n",
       "7  ulQ8Nyj7jCUR8M83SUMoRQ                  Thursday night is $5 burger night   \n",
       "8  ulQ8Nyj7jCUR8M83SUMoRQ  Very good for lunch, bread and soup are excellent   \n",
       "9  ulQ8Nyj7jCUR8M83SUMoRQ  Tuesday spaghetti special  all day $5.59 inclu...   \n",
       "\n",
       "              business_id  likes        date type  \n",
       "0  tJRDll5yqpZwehenzE2cSg      0  2012-07-15  tip  \n",
       "1  jH19V2I9fIslnNhDzPmdkA      0  2015-08-12  tip  \n",
       "2  dAa0hB2yrnHzVmsCkN4YvQ      0  2014-06-20  tip  \n",
       "3  dAa0hB2yrnHzVmsCkN4YvQ      0  2016-10-12  tip  \n",
       "4  SqW3igh1_Png336VIb5DUA      0  2016-07-03  tip  \n",
       "5  KNpcPGqDORDdvtekXd348w      0  2016-01-07  tip  \n",
       "6  KNpcPGqDORDdvtekXd348w      0  2016-05-22  tip  \n",
       "7  KNpcPGqDORDdvtekXd348w      0  2016-06-09  tip  \n",
       "8  8qNOI6Q1-rJrvWWD5Btz6w      0  2016-06-01  tip  \n",
       "9  8qNOI6Q1-rJrvWWD5Btz6w      0  2016-06-14  tip  "
      ]
     },
     "execution_count": 32,
     "metadata": {},
     "output_type": "execute_result"
    }
   ],
   "source": [
    "tip.head(10)"
   ]
  },
  {
   "cell_type": "code",
   "execution_count": 33,
   "metadata": {
    "collapsed": false
   },
   "outputs": [
    {
     "data": {
      "text/plain": [
       "(946600, 6)"
      ]
     },
     "execution_count": 33,
     "metadata": {},
     "output_type": "execute_result"
    }
   ],
   "source": [
    "tip.shape"
   ]
  },
  {
   "cell_type": "markdown",
   "metadata": {},
   "source": [
    "#How many of the selected words are used in the user tips?"
   ]
  },
  {
   "cell_type": "code",
   "execution_count": 34,
   "metadata": {
    "collapsed": true
   },
   "outputs": [],
   "source": [
    "selected_words = ['awesome', 'great', 'fantastic', 'amazing', 'love', 'horrible', 'bad', 'terrible', \n",
    "                  'awful', 'wow', 'hate']"
   ]
  },
  {
   "cell_type": "code",
   "execution_count": 35,
   "metadata": {
    "collapsed": false
   },
   "outputs": [
    {
     "data": {
      "text/plain": [
       "['awesome',\n",
       " 'great',\n",
       " 'fantastic',\n",
       " 'amazing',\n",
       " 'love',\n",
       " 'horrible',\n",
       " 'bad',\n",
       " 'terrible',\n",
       " 'awful',\n",
       " 'wow',\n",
       " 'hate']"
      ]
     },
     "execution_count": 35,
     "metadata": {},
     "output_type": "execute_result"
    }
   ],
   "source": [
    "selected_words"
   ]
  },
  {
   "cell_type": "code",
   "execution_count": 36,
   "metadata": {
    "collapsed": false
   },
   "outputs": [
    {
     "data": {
      "text/plain": [
       "['awesome',\n",
       " 'great',\n",
       " 'fantastic',\n",
       " 'amazing',\n",
       " 'love',\n",
       " 'horrible',\n",
       " 'bad',\n",
       " 'terrible',\n",
       " 'awful',\n",
       " 'wow',\n",
       " 'hate']"
      ]
     },
     "execution_count": 36,
     "metadata": {},
     "output_type": "execute_result"
    }
   ],
   "source": [
    "from sklearn.feature_extraction.text import CountVectorizer\n",
    "vectorizer = CountVectorizer(vocabulary=selected_words, lowercase=False)\n",
    "#corpus = ['This is the first document.','This is the second second document.']\n",
    "#print corpus\n",
    "selected_word_count = vectorizer.fit_transform(tip['text'].values.astype('U'))\n",
    "vectorizer.get_feature_names()"
   ]
  },
  {
   "cell_type": "code",
   "execution_count": 37,
   "metadata": {
    "collapsed": false
   },
   "outputs": [
    {
     "data": {
      "text/plain": [
       "(946600, 11)"
      ]
     },
     "execution_count": 37,
     "metadata": {},
     "output_type": "execute_result"
    }
   ],
   "source": [
    "word_count_array = selected_word_count.toarray()\n",
    "word_count_array.shape"
   ]
  },
  {
   "cell_type": "code",
   "execution_count": 38,
   "metadata": {
    "collapsed": false
   },
   "outputs": [
    {
     "data": {
      "text/plain": [
       "array([19034, 62239,  4284, 21394, 23115,  2707,  8654,  2119,  1054,\n",
       "         764,  1107])"
      ]
     },
     "execution_count": 38,
     "metadata": {},
     "output_type": "execute_result"
    }
   ],
   "source": [
    "word_count_array.sum(axis=0)"
   ]
  },
  {
   "cell_type": "code",
   "execution_count": 39,
   "metadata": {
    "collapsed": false
   },
   "outputs": [],
   "source": [
    "temp = pd.DataFrame(index=vectorizer.get_feature_names(), data=word_count_array.sum(axis=0)).rename(columns={0: 'Count'})"
   ]
  },
  {
   "cell_type": "code",
   "execution_count": 40,
   "metadata": {
    "collapsed": false
   },
   "outputs": [
    {
     "data": {
      "text/plain": [
       "<matplotlib.axes._subplots.AxesSubplot at 0x10f3f3350>"
      ]
     },
     "execution_count": 40,
     "metadata": {},
     "output_type": "execute_result"
    },
    {
     "data": {
      "image/png": "[encoded data removed]",
      "text/plain": [
       "<matplotlib.figure.Figure at 0x10f866810>"
      ]
     },
     "metadata": {},
     "output_type": "display_data"
    }
   ],
   "source": [
    "temp.plot(kind='bar', stacked=False, figsize=[5,5], colormap='winter')"
   ]
  },
  {
   "cell_type": "markdown",
   "metadata": {},
   "source": [
    "We see that most of the tips are positive rather than negative!"
   ]
  },
  {
   "cell_type": "markdown",
   "metadata": {},
   "source": [
    "#Lets look at one restaurant with high star rating and one with low star rating and see what the user tips look like"
   ]
  },
  {
   "cell_type": "markdown",
   "metadata": {},
   "source": [
    "#Lets look at Earl of Sandwich\t restaurant in Las Vegas which has 4.5 rating"
   ]
  },
  {
   "cell_type": "code",
   "execution_count": 41,
   "metadata": {
    "collapsed": false
   },
   "outputs": [
    {
     "data": {
      "text/html": [
       "<div>\n",
       "<table border=\"1\" class=\"dataframe\">\n",
       "  <thead>\n",
       "    <tr style=\"text-align: right;\">\n",
       "      <th></th>\n",
       "      <th>neighborhood</th>\n",
       "      <th>business_id</th>\n",
       "      <th>hours</th>\n",
       "      <th>is_open</th>\n",
       "      <th>address</th>\n",
       "      <th>attributes</th>\n",
       "      <th>categories</th>\n",
       "      <th>city</th>\n",
       "      <th>review_count</th>\n",
       "      <th>name</th>\n",
       "      <th>longitude</th>\n",
       "      <th>state</th>\n",
       "      <th>stars</th>\n",
       "      <th>latitude</th>\n",
       "      <th>postal_code</th>\n",
       "      <th>type</th>\n",
       "    </tr>\n",
       "  </thead>\n",
       "  <tbody>\n",
       "    <tr>\n",
       "      <th>21215</th>\n",
       "      <td>NaN</td>\n",
       "      <td>Ffhe2cmRyloz3CCdRGvHtA</td>\n",
       "      <td>['Monday 6:0-0:0', 'Tuesday 6:0-0:0', 'Wednesd...</td>\n",
       "      <td>1</td>\n",
       "      <td>Palms Casino Resort, 4321 W. Flamingo Rd</td>\n",
       "      <td>['Alcohol: beer_and_wine', \"Ambience: {'romant...</td>\n",
       "      <td>['Event Planning &amp; Services', 'Food', 'Caterer...</td>\n",
       "      <td>Las Vegas</td>\n",
       "      <td>204</td>\n",
       "      <td>Earl of Sandwich</td>\n",
       "      <td>-115.195589</td>\n",
       "      <td>NV</td>\n",
       "      <td>4.0</td>\n",
       "      <td>36.114345</td>\n",
       "      <td>89103</td>\n",
       "      <td>business</td>\n",
       "    </tr>\n",
       "    <tr>\n",
       "      <th>61741</th>\n",
       "      <td>South Summerlin</td>\n",
       "      <td>EyrF5YU1sjWXsxTSosHqMQ</td>\n",
       "      <td>['Monday 8:0-21:0', 'Tuesday 8:0-21:0', 'Wedne...</td>\n",
       "      <td>1</td>\n",
       "      <td>2010 Festival Plaza Dr, Ste 180</td>\n",
       "      <td>['Alcohol: none', \"Ambience: {'romantic': Fals...</td>\n",
       "      <td>['Restaurants', 'Salad', 'Sandwiches', 'Breakf...</td>\n",
       "      <td>Las Vegas</td>\n",
       "      <td>79</td>\n",
       "      <td>Earl of Sandwich</td>\n",
       "      <td>-115.333075</td>\n",
       "      <td>NV</td>\n",
       "      <td>4.0</td>\n",
       "      <td>36.149008</td>\n",
       "      <td>89103</td>\n",
       "      <td>business</td>\n",
       "    </tr>\n",
       "    <tr>\n",
       "      <th>61831</th>\n",
       "      <td>The Strip</td>\n",
       "      <td>fE7x3Ui2mzdwdfJnd7r_1g</td>\n",
       "      <td>['Monday 11:0-23:0', 'Tuesday 11:0-23:0', 'Wed...</td>\n",
       "      <td>1</td>\n",
       "      <td>3570 Las Vegas Blvd S</td>\n",
       "      <td>['Alcohol: beer_and_wine', 'BikeParking: False...</td>\n",
       "      <td>['Restaurants', 'Coffee &amp; Tea', 'Food', 'Cater...</td>\n",
       "      <td>Las Vegas</td>\n",
       "      <td>103</td>\n",
       "      <td>Earl of Sandwich</td>\n",
       "      <td>-115.175836</td>\n",
       "      <td>NV</td>\n",
       "      <td>3.0</td>\n",
       "      <td>36.117724</td>\n",
       "      <td>89109</td>\n",
       "      <td>business</td>\n",
       "    </tr>\n",
       "    <tr>\n",
       "      <th>123061</th>\n",
       "      <td>The Strip</td>\n",
       "      <td>DkYS3arLOhA8si5uUEmHOw</td>\n",
       "      <td>['Monday 0:0-0:0', 'Tuesday 0:0-0:0', 'Wednesd...</td>\n",
       "      <td>1</td>\n",
       "      <td>3667 Las Vegas Blvd S</td>\n",
       "      <td>['Alcohol: beer_and_wine', \"Ambience: {'romant...</td>\n",
       "      <td>['Restaurants', 'Caterers', 'Event Planning &amp; ...</td>\n",
       "      <td>Las Vegas</td>\n",
       "      <td>4655</td>\n",
       "      <td>Earl of Sandwich</td>\n",
       "      <td>-115.171877</td>\n",
       "      <td>NV</td>\n",
       "      <td>4.5</td>\n",
       "      <td>36.109361</td>\n",
       "      <td>89109</td>\n",
       "      <td>business</td>\n",
       "    </tr>\n",
       "    <tr>\n",
       "      <th>132483</th>\n",
       "      <td>South Summerlin</td>\n",
       "      <td>3fT1kcQ-MVEImGHa3hll5w</td>\n",
       "      <td>['Monday 10:0-21:0', 'Tuesday 10:0-21:0', 'Wed...</td>\n",
       "      <td>1</td>\n",
       "      <td>Downtown Summerlin, 2010 Festival Plaza Dr. St...</td>\n",
       "      <td>['GoodForKids: True', 'RestaurantsReservations...</td>\n",
       "      <td>['Caterers', 'Event Planning &amp; Services', 'Res...</td>\n",
       "      <td>Las Vegas</td>\n",
       "      <td>3</td>\n",
       "      <td>Earl of Sandwich</td>\n",
       "      <td>-115.333188</td>\n",
       "      <td>NV</td>\n",
       "      <td>3.5</td>\n",
       "      <td>36.149159</td>\n",
       "      <td>89103</td>\n",
       "      <td>business</td>\n",
       "    </tr>\n",
       "  </tbody>\n",
       "</table>\n",
       "</div>"
      ],
      "text/plain": [
       "           neighborhood             business_id  \\\n",
       "21215               NaN  Ffhe2cmRyloz3CCdRGvHtA   \n",
       "61741   South Summerlin  EyrF5YU1sjWXsxTSosHqMQ   \n",
       "61831         The Strip  fE7x3Ui2mzdwdfJnd7r_1g   \n",
       "123061        The Strip  DkYS3arLOhA8si5uUEmHOw   \n",
       "132483  South Summerlin  3fT1kcQ-MVEImGHa3hll5w   \n",
       "\n",
       "                                                    hours  is_open  \\\n",
       "21215   ['Monday 6:0-0:0', 'Tuesday 6:0-0:0', 'Wednesd...        1   \n",
       "61741   ['Monday 8:0-21:0', 'Tuesday 8:0-21:0', 'Wedne...        1   \n",
       "61831   ['Monday 11:0-23:0', 'Tuesday 11:0-23:0', 'Wed...        1   \n",
       "123061  ['Monday 0:0-0:0', 'Tuesday 0:0-0:0', 'Wednesd...        1   \n",
       "132483  ['Monday 10:0-21:0', 'Tuesday 10:0-21:0', 'Wed...        1   \n",
       "\n",
       "                                                  address  \\\n",
       "21215            Palms Casino Resort, 4321 W. Flamingo Rd   \n",
       "61741                     2010 Festival Plaza Dr, Ste 180   \n",
       "61831                               3570 Las Vegas Blvd S   \n",
       "123061                              3667 Las Vegas Blvd S   \n",
       "132483  Downtown Summerlin, 2010 Festival Plaza Dr. St...   \n",
       "\n",
       "                                               attributes  \\\n",
       "21215   ['Alcohol: beer_and_wine', \"Ambience: {'romant...   \n",
       "61741   ['Alcohol: none', \"Ambience: {'romantic': Fals...   \n",
       "61831   ['Alcohol: beer_and_wine', 'BikeParking: False...   \n",
       "123061  ['Alcohol: beer_and_wine', \"Ambience: {'romant...   \n",
       "132483  ['GoodForKids: True', 'RestaurantsReservations...   \n",
       "\n",
       "                                               categories       city  \\\n",
       "21215   ['Event Planning & Services', 'Food', 'Caterer...  Las Vegas   \n",
       "61741   ['Restaurants', 'Salad', 'Sandwiches', 'Breakf...  Las Vegas   \n",
       "61831   ['Restaurants', 'Coffee & Tea', 'Food', 'Cater...  Las Vegas   \n",
       "123061  ['Restaurants', 'Caterers', 'Event Planning & ...  Las Vegas   \n",
       "132483  ['Caterers', 'Event Planning & Services', 'Res...  Las Vegas   \n",
       "\n",
       "        review_count              name   longitude state  stars   latitude  \\\n",
       "21215            204  Earl of Sandwich -115.195589    NV    4.0  36.114345   \n",
       "61741             79  Earl of Sandwich -115.333075    NV    4.0  36.149008   \n",
       "61831            103  Earl of Sandwich -115.175836    NV    3.0  36.117724   \n",
       "123061          4655  Earl of Sandwich -115.171877    NV    4.5  36.109361   \n",
       "132483             3  Earl of Sandwich -115.333188    NV    3.5  36.149159   \n",
       "\n",
       "       postal_code      type  \n",
       "21215        89103  business  \n",
       "61741        89103  business  \n",
       "61831        89109  business  \n",
       "123061       89109  business  \n",
       "132483       89103  business  "
      ]
     },
     "execution_count": 41,
     "metadata": {},
     "output_type": "execute_result"
    }
   ],
   "source": [
    "business[business.name=='Earl of Sandwich']"
   ]
  },
  {
   "cell_type": "markdown",
   "metadata": {},
   "source": [
    "Since there are multiple, lets pick by index"
   ]
  },
  {
   "cell_type": "code",
   "execution_count": 42,
   "metadata": {
    "collapsed": false
   },
   "outputs": [
    {
     "data": {
      "text/plain": [
       "neighborhood                                            The Strip\n",
       "business_id                                DkYS3arLOhA8si5uUEmHOw\n",
       "hours           ['Monday 0:0-0:0', 'Tuesday 0:0-0:0', 'Wednesd...\n",
       "is_open                                                         1\n",
       "address                                     3667 Las Vegas Blvd S\n",
       "attributes      ['Alcohol: beer_and_wine', \"Ambience: {'romant...\n",
       "categories      ['Restaurants', 'Caterers', 'Event Planning & ...\n",
       "city                                                    Las Vegas\n",
       "review_count                                                 4655\n",
       "name                                             Earl of Sandwich\n",
       "longitude                                                -115.172\n",
       "state                                                          NV\n",
       "stars                                                         4.5\n",
       "latitude                                                  36.1094\n",
       "postal_code                                                 89109\n",
       "type                                                     business\n",
       "Name: 123061, dtype: object"
      ]
     },
     "execution_count": 42,
     "metadata": {},
     "output_type": "execute_result"
    }
   ],
   "source": [
    "business.loc[123061,:]"
   ]
  },
  {
   "cell_type": "code",
   "execution_count": 43,
   "metadata": {
    "collapsed": false
   },
   "outputs": [],
   "source": [
    "earl_of_sandwich = tip[tip.business_id==business.loc[123061,:].business_id]"
   ]
  },
  {
   "cell_type": "code",
   "execution_count": 44,
   "metadata": {
    "collapsed": true
   },
   "outputs": [],
   "source": [
    "earl_of_sandwich_selected_word_count = vectorizer.fit_transform(earl_of_sandwich['text'].values.astype('U'))"
   ]
  },
  {
   "cell_type": "code",
   "execution_count": 45,
   "metadata": {
    "collapsed": false
   },
   "outputs": [
    {
     "data": {
      "text/html": [
       "<div>\n",
       "<table border=\"1\" class=\"dataframe\">\n",
       "  <thead>\n",
       "    <tr style=\"text-align: right;\">\n",
       "      <th></th>\n",
       "      <th>Count</th>\n",
       "    </tr>\n",
       "  </thead>\n",
       "  <tbody>\n",
       "    <tr>\n",
       "      <th>awesome</th>\n",
       "      <td>13</td>\n",
       "    </tr>\n",
       "    <tr>\n",
       "      <th>great</th>\n",
       "      <td>30</td>\n",
       "    </tr>\n",
       "    <tr>\n",
       "      <th>fantastic</th>\n",
       "      <td>1</td>\n",
       "    </tr>\n",
       "    <tr>\n",
       "      <th>amazing</th>\n",
       "      <td>20</td>\n",
       "    </tr>\n",
       "    <tr>\n",
       "      <th>love</th>\n",
       "      <td>30</td>\n",
       "    </tr>\n",
       "    <tr>\n",
       "      <th>horrible</th>\n",
       "      <td>0</td>\n",
       "    </tr>\n",
       "    <tr>\n",
       "      <th>bad</th>\n",
       "      <td>8</td>\n",
       "    </tr>\n",
       "    <tr>\n",
       "      <th>terrible</th>\n",
       "      <td>1</td>\n",
       "    </tr>\n",
       "    <tr>\n",
       "      <th>awful</th>\n",
       "      <td>0</td>\n",
       "    </tr>\n",
       "    <tr>\n",
       "      <th>wow</th>\n",
       "      <td>1</td>\n",
       "    </tr>\n",
       "    <tr>\n",
       "      <th>hate</th>\n",
       "      <td>1</td>\n",
       "    </tr>\n",
       "  </tbody>\n",
       "</table>\n",
       "</div>"
      ],
      "text/plain": [
       "           Count\n",
       "awesome       13\n",
       "great         30\n",
       "fantastic      1\n",
       "amazing       20\n",
       "love          30\n",
       "horrible       0\n",
       "bad            8\n",
       "terrible       1\n",
       "awful          0\n",
       "wow            1\n",
       "hate           1"
      ]
     },
     "execution_count": 45,
     "metadata": {},
     "output_type": "execute_result"
    }
   ],
   "source": [
    "word_count_array = earl_of_sandwich_selected_word_count.toarray()\n",
    "temp = pd.DataFrame(index=vectorizer.get_feature_names(), data=word_count_array.sum(axis=0)).rename(columns={0: 'Count'})\n",
    "temp"
   ]
  },
  {
   "cell_type": "code",
   "execution_count": 46,
   "metadata": {
    "collapsed": false
   },
   "outputs": [
    {
     "data": {
      "text/plain": [
       "<matplotlib.axes._subplots.AxesSubplot at 0x1103d5750>"
      ]
     },
     "execution_count": 46,
     "metadata": {},
     "output_type": "execute_result"
    },
    {
     "data": {
      "image/png": "[encoded data removed]",
      "text/plain": [
       "<matplotlib.figure.Figure at 0x1295ab7d0>"
      ]
     },
     "metadata": {},
     "output_type": "display_data"
    }
   ],
   "source": [
    "temp.plot(kind='bar', stacked=False, figsize=[5,5], colormap='winter')"
   ]
  },
  {
   "cell_type": "markdown",
   "metadata": {},
   "source": [
    "We can see that the tips are mostly positive!"
   ]
  },
  {
   "cell_type": "code",
   "execution_count": 47,
   "metadata": {
    "collapsed": false
   },
   "outputs": [
    {
     "data": {
      "text/html": [
       "<div>\n",
       "<table border=\"1\" class=\"dataframe\">\n",
       "  <thead>\n",
       "    <tr style=\"text-align: right;\">\n",
       "      <th></th>\n",
       "      <th>name</th>\n",
       "      <th>review_count</th>\n",
       "      <th>city</th>\n",
       "      <th>stars</th>\n",
       "    </tr>\n",
       "  </thead>\n",
       "  <tbody>\n",
       "    <tr>\n",
       "      <th>76236</th>\n",
       "      <td>Flamingo Las Vegas Hotel &amp; Casino</td>\n",
       "      <td>2498</td>\n",
       "      <td>Las Vegas</td>\n",
       "      <td>2.5</td>\n",
       "    </tr>\n",
       "    <tr>\n",
       "      <th>141134</th>\n",
       "      <td>Luxor Hotel and Casino Las Vegas</td>\n",
       "      <td>3166</td>\n",
       "      <td>Las Vegas</td>\n",
       "      <td>2.5</td>\n",
       "    </tr>\n",
       "    <tr>\n",
       "      <th>79772</th>\n",
       "      <td>Circus Circus Las Vegas Hotel and Casino</td>\n",
       "      <td>1740</td>\n",
       "      <td>Las Vegas</td>\n",
       "      <td>2.5</td>\n",
       "    </tr>\n",
       "    <tr>\n",
       "      <th>53150</th>\n",
       "      <td>The LINQ Hotel &amp; Casino</td>\n",
       "      <td>1057</td>\n",
       "      <td>Las Vegas</td>\n",
       "      <td>2.5</td>\n",
       "    </tr>\n",
       "    <tr>\n",
       "      <th>82070</th>\n",
       "      <td>Harrah's Las Vegas Hotel &amp; Casino</td>\n",
       "      <td>1191</td>\n",
       "      <td>Las Vegas</td>\n",
       "      <td>2.5</td>\n",
       "    </tr>\n",
       "  </tbody>\n",
       "</table>\n",
       "</div>"
      ],
      "text/plain": [
       "                                            name  review_count       city  \\\n",
       "76236          Flamingo Las Vegas Hotel & Casino          2498  Las Vegas   \n",
       "141134          Luxor Hotel and Casino Las Vegas          3166  Las Vegas   \n",
       "79772   Circus Circus Las Vegas Hotel and Casino          1740  Las Vegas   \n",
       "53150                    The LINQ Hotel & Casino          1057  Las Vegas   \n",
       "82070          Harrah's Las Vegas Hotel & Casino          1191  Las Vegas   \n",
       "\n",
       "        stars  \n",
       "76236     2.5  \n",
       "141134    2.5  \n",
       "79772     2.5  \n",
       "53150     2.5  \n",
       "82070     2.5  "
      ]
     },
     "execution_count": 47,
     "metadata": {},
     "output_type": "execute_result"
    }
   ],
   "source": [
    "business[['name', 'review_count', 'city', 'stars']][business.review_count>1000].sort_values(ascending=True, by=\"stars\")[0:5]"
   ]
  },
  {
   "cell_type": "markdown",
   "metadata": {},
   "source": [
    "#Lets look into Luxor Hotel and Casino Las Vegas which has a 2.5 star"
   ]
  },
  {
   "cell_type": "code",
   "execution_count": 48,
   "metadata": {
    "collapsed": true
   },
   "outputs": [],
   "source": [
    "luxor_hotel = tip[tip.business_id==business.loc[141134,:].business_id]"
   ]
  },
  {
   "cell_type": "code",
   "execution_count": 49,
   "metadata": {
    "collapsed": true
   },
   "outputs": [],
   "source": [
    "luxor_hotel_selected_word_count = vectorizer.fit_transform(luxor_hotel['text'].values.astype('U'))"
   ]
  },
  {
   "cell_type": "code",
   "execution_count": 50,
   "metadata": {
    "collapsed": true
   },
   "outputs": [],
   "source": [
    "word_count_array = luxor_hotel_selected_word_count.toarray()\n",
    "temp = pd.DataFrame(index=vectorizer.get_feature_names(), data=word_count_array.sum(axis=0)).rename(columns={0: 'Count'})"
   ]
  },
  {
   "cell_type": "code",
   "execution_count": 51,
   "metadata": {
    "collapsed": false
   },
   "outputs": [
    {
     "data": {
      "text/plain": [
       "<matplotlib.axes._subplots.AxesSubplot at 0x1103e9510>"
      ]
     },
     "execution_count": 51,
     "metadata": {},
     "output_type": "execute_result"
    },
    {
     "data": {
      "image/png": "[encoded data removed]",
      "text/plain": [
       "<matplotlib.figure.Figure at 0x1103bbd10>"
      ]
     },
     "metadata": {},
     "output_type": "display_data"
    }
   ],
   "source": [
    "temp.plot(kind='bar', stacked=False, figsize=[5,5], colormap='winter')"
   ]
  },
  {
   "cell_type": "markdown",
   "metadata": {},
   "source": [
    "This has more positive words than negative, so the user tips for this restaurant are not very predictive of its star! This might make sense because while users write good and bad reviews, tips are naturally like to be what they liked and therefore positive!"
   ]
  },
  {
   "cell_type": "markdown",
   "metadata": {
    "collapsed": true
   },
   "source": [
    "#Lets look into user reviews "
   ]
  },
  {
   "cell_type": "code",
   "execution_count": 52,
   "metadata": {
    "collapsed": true
   },
   "outputs": [],
   "source": [
    "reviews = pd.read_csv('./../Data/yelp_academic_dataset_review.csv')"
   ]
  },
  {
   "cell_type": "code",
   "execution_count": 53,
   "metadata": {
    "collapsed": false
   },
   "outputs": [
    {
     "data": {
      "text/plain": [
       "((4153150, 10), (946600, 6))"
      ]
     },
     "execution_count": 53,
     "metadata": {},
     "output_type": "execute_result"
    }
   ],
   "source": [
    "reviews.shape, tip.shape #there are 4.15 million reviews! "
   ]
  },
  {
   "cell_type": "code",
   "execution_count": 54,
   "metadata": {
    "collapsed": false
   },
   "outputs": [
    {
     "data": {
      "text/html": [
       "<div>\n",
       "<table border=\"1\" class=\"dataframe\">\n",
       "  <thead>\n",
       "    <tr style=\"text-align: right;\">\n",
       "      <th></th>\n",
       "      <th>funny</th>\n",
       "      <th>user_id</th>\n",
       "      <th>review_id</th>\n",
       "      <th>text</th>\n",
       "      <th>business_id</th>\n",
       "      <th>stars</th>\n",
       "      <th>date</th>\n",
       "      <th>useful</th>\n",
       "      <th>type</th>\n",
       "      <th>cool</th>\n",
       "    </tr>\n",
       "  </thead>\n",
       "  <tbody>\n",
       "    <tr>\n",
       "      <th>0</th>\n",
       "      <td>0</td>\n",
       "      <td>KpkOkG6RIf4Ra25Lhhxf1A</td>\n",
       "      <td>NxL8SIC5yqOdnlXCg18IBg</td>\n",
       "      <td>If you enjoy service by someone who is as comp...</td>\n",
       "      <td>2aFiy99vNLklCx3T_tGS9A</td>\n",
       "      <td>5</td>\n",
       "      <td>2011-10-10</td>\n",
       "      <td>0</td>\n",
       "      <td>review</td>\n",
       "      <td>0</td>\n",
       "    </tr>\n",
       "    <tr>\n",
       "      <th>1</th>\n",
       "      <td>0</td>\n",
       "      <td>bQ7fQq1otn9hKX-gXRsrgA</td>\n",
       "      <td>pXbbIgOXvLuTi_SPs1hQEQ</td>\n",
       "      <td>After being on the phone with Verizon Wireless...</td>\n",
       "      <td>2aFiy99vNLklCx3T_tGS9A</td>\n",
       "      <td>5</td>\n",
       "      <td>2010-12-29</td>\n",
       "      <td>1</td>\n",
       "      <td>review</td>\n",
       "      <td>0</td>\n",
       "    </tr>\n",
       "    <tr>\n",
       "      <th>2</th>\n",
       "      <td>0</td>\n",
       "      <td>r1NUhdNmL6yU9Bn-Yx6FTw</td>\n",
       "      <td>wslW2Lu4NYylb1jEapAGsw</td>\n",
       "      <td>Great service! Corey is very service oriented....</td>\n",
       "      <td>2aFiy99vNLklCx3T_tGS9A</td>\n",
       "      <td>5</td>\n",
       "      <td>2011-04-29</td>\n",
       "      <td>0</td>\n",
       "      <td>review</td>\n",
       "      <td>0</td>\n",
       "    </tr>\n",
       "    <tr>\n",
       "      <th>3</th>\n",
       "      <td>0</td>\n",
       "      <td>aW3ix1KNZAvoM8q-WghA3Q</td>\n",
       "      <td>GP6YEearUWrzPtQYSF1vVg</td>\n",
       "      <td>Highly recommended. Went in yesterday looking ...</td>\n",
       "      <td>2LfIuF3_sX6uwe-IR-P0jQ</td>\n",
       "      <td>5</td>\n",
       "      <td>2014-07-14</td>\n",
       "      <td>0</td>\n",
       "      <td>review</td>\n",
       "      <td>1</td>\n",
       "    </tr>\n",
       "    <tr>\n",
       "      <th>4</th>\n",
       "      <td>0</td>\n",
       "      <td>YOo-Cip8HqvKp_p9nEGphw</td>\n",
       "      <td>25RlYGq2s5qShi-pn3ufVA</td>\n",
       "      <td>I walked in here looking for a specific piece ...</td>\n",
       "      <td>2LfIuF3_sX6uwe-IR-P0jQ</td>\n",
       "      <td>4</td>\n",
       "      <td>2014-01-15</td>\n",
       "      <td>0</td>\n",
       "      <td>review</td>\n",
       "      <td>0</td>\n",
       "    </tr>\n",
       "  </tbody>\n",
       "</table>\n",
       "</div>"
      ],
      "text/plain": [
       "   funny                 user_id               review_id  \\\n",
       "0      0  KpkOkG6RIf4Ra25Lhhxf1A  NxL8SIC5yqOdnlXCg18IBg   \n",
       "1      0  bQ7fQq1otn9hKX-gXRsrgA  pXbbIgOXvLuTi_SPs1hQEQ   \n",
       "2      0  r1NUhdNmL6yU9Bn-Yx6FTw  wslW2Lu4NYylb1jEapAGsw   \n",
       "3      0  aW3ix1KNZAvoM8q-WghA3Q  GP6YEearUWrzPtQYSF1vVg   \n",
       "4      0  YOo-Cip8HqvKp_p9nEGphw  25RlYGq2s5qShi-pn3ufVA   \n",
       "\n",
       "                                                text             business_id  \\\n",
       "0  If you enjoy service by someone who is as comp...  2aFiy99vNLklCx3T_tGS9A   \n",
       "1  After being on the phone with Verizon Wireless...  2aFiy99vNLklCx3T_tGS9A   \n",
       "2  Great service! Corey is very service oriented....  2aFiy99vNLklCx3T_tGS9A   \n",
       "3  Highly recommended. Went in yesterday looking ...  2LfIuF3_sX6uwe-IR-P0jQ   \n",
       "4  I walked in here looking for a specific piece ...  2LfIuF3_sX6uwe-IR-P0jQ   \n",
       "\n",
       "   stars        date  useful    type  cool  \n",
       "0      5  2011-10-10       0  review     0  \n",
       "1      5  2010-12-29       1  review     0  \n",
       "2      5  2011-04-29       0  review     0  \n",
       "3      5  2014-07-14       0  review     1  \n",
       "4      4  2014-01-15       0  review     0  "
      ]
     },
     "execution_count": 54,
     "metadata": {},
     "output_type": "execute_result"
    }
   ],
   "source": [
    "reviews.head(5)"
   ]
  },
  {
   "cell_type": "markdown",
   "metadata": {},
   "source": [
    "#How many of these restaurants serve Japanese food? Lets find out based on reviews!"
   ]
  },
  {
   "cell_type": "code",
   "execution_count": 55,
   "metadata": {
    "collapsed": true
   },
   "outputs": [],
   "source": [
    "selected_words = ['sushi', 'miso', 'teriyaki', 'tempura', 'udon', 'soba', 'ramen', 'yakitori', 'izakaya']"
   ]
  },
  {
   "cell_type": "markdown",
   "metadata": {},
   "source": [
    "#Lets take subset of reviews since there are so many"
   ]
  },
  {
   "cell_type": "code",
   "execution_count": 57,
   "metadata": {
    "collapsed": false
   },
   "outputs": [
    {
     "data": {
      "text/plain": [
       "['sushi',\n",
       " 'miso',\n",
       " 'teriyaki',\n",
       " 'tempura',\n",
       " 'udon',\n",
       " 'soba',\n",
       " 'ramen',\n",
       " 'yakitori',\n",
       " 'izakaya']"
      ]
     },
     "execution_count": 57,
     "metadata": {},
     "output_type": "execute_result"
    }
   ],
   "source": [
    "vectorizer = CountVectorizer(vocabulary=selected_words, lowercase=True)\n",
    "\n",
    "selected_word_count = vectorizer.fit_transform(reviews.loc[0:1000000, 'text'].values.astype('U'))\n",
    "vectorizer.get_feature_names()"
   ]
  },
  {
   "cell_type": "code",
   "execution_count": 58,
   "metadata": {
    "collapsed": false
   },
   "outputs": [
    {
     "data": {
      "text/plain": [
       "array([[0, 0, 0, ..., 0, 0, 0],\n",
       "       [0, 0, 0, ..., 0, 0, 0],\n",
       "       [0, 0, 0, ..., 0, 0, 0],\n",
       "       ..., \n",
       "       [0, 0, 0, ..., 0, 0, 0],\n",
       "       [0, 0, 0, ..., 0, 0, 0],\n",
       "       [0, 0, 0, ..., 0, 0, 0]])"
      ]
     },
     "execution_count": 58,
     "metadata": {},
     "output_type": "execute_result"
    }
   ],
   "source": [
    "selected_word_count.toarray()"
   ]
  },
  {
   "cell_type": "code",
   "execution_count": 59,
   "metadata": {
    "collapsed": false
   },
   "outputs": [
    {
     "data": {
      "text/html": [
       "<div>\n",
       "<table border=\"1\" class=\"dataframe\">\n",
       "  <thead>\n",
       "    <tr style=\"text-align: right;\">\n",
       "      <th></th>\n",
       "      <th>Count</th>\n",
       "    </tr>\n",
       "  </thead>\n",
       "  <tbody>\n",
       "    <tr>\n",
       "      <th>sushi</th>\n",
       "      <td>59164</td>\n",
       "    </tr>\n",
       "    <tr>\n",
       "      <th>miso</th>\n",
       "      <td>4639</td>\n",
       "    </tr>\n",
       "    <tr>\n",
       "      <th>teriyaki</th>\n",
       "      <td>4235</td>\n",
       "    </tr>\n",
       "    <tr>\n",
       "      <th>tempura</th>\n",
       "      <td>6296</td>\n",
       "    </tr>\n",
       "    <tr>\n",
       "      <th>udon</th>\n",
       "      <td>1874</td>\n",
       "    </tr>\n",
       "    <tr>\n",
       "      <th>soba</th>\n",
       "      <td>873</td>\n",
       "    </tr>\n",
       "    <tr>\n",
       "      <th>ramen</th>\n",
       "      <td>8113</td>\n",
       "    </tr>\n",
       "    <tr>\n",
       "      <th>yakitori</th>\n",
       "      <td>275</td>\n",
       "    </tr>\n",
       "    <tr>\n",
       "      <th>izakaya</th>\n",
       "      <td>551</td>\n",
       "    </tr>\n",
       "  </tbody>\n",
       "</table>\n",
       "</div>"
      ],
      "text/plain": [
       "          Count\n",
       "sushi     59164\n",
       "miso       4639\n",
       "teriyaki   4235\n",
       "tempura    6296\n",
       "udon       1874\n",
       "soba        873\n",
       "ramen      8113\n",
       "yakitori    275\n",
       "izakaya     551"
      ]
     },
     "execution_count": 59,
     "metadata": {},
     "output_type": "execute_result"
    }
   ],
   "source": [
    "temp = pd.DataFrame(index=vectorizer.get_feature_names(), data=selected_word_count.toarray().sum(axis=0)).rename(columns={0: 'Count'})\n",
    "temp"
   ]
  },
  {
   "cell_type": "code",
   "execution_count": 60,
   "metadata": {
    "collapsed": false
   },
   "outputs": [
    {
     "data": {
      "text/plain": [
       "<matplotlib.axes._subplots.AxesSubplot at 0x21abcba90>"
      ]
     },
     "execution_count": 60,
     "metadata": {},
     "output_type": "execute_result"
    },
    {
     "data": {
      "image/png": "[encoded data removed]",
      "text/plain": [
       "<matplotlib.figure.Figure at 0x1295ab110>"
      ]
     },
     "metadata": {},
     "output_type": "display_data"
    }
   ],
   "source": [
    "temp.plot(kind='bar', stacked=False, figsize=[5,5], colormap='winter')"
   ]
  },
  {
   "cell_type": "markdown",
   "metadata": {},
   "source": [
    "Nice! Looks like there are a few Japanese restaurants! Lets find out what they are!"
   ]
  },
  {
   "cell_type": "code",
   "execution_count": 61,
   "metadata": {
    "collapsed": false
   },
   "outputs": [
    {
     "data": {
      "text/plain": [
       "(1000001, 9)"
      ]
     },
     "execution_count": 61,
     "metadata": {},
     "output_type": "execute_result"
    }
   ],
   "source": [
    "selected_word_count.toarray().shape"
   ]
  },
  {
   "cell_type": "code",
   "execution_count": 83,
   "metadata": {
    "collapsed": false
   },
   "outputs": [
    {
     "data": {
      "text/plain": [
       "(100,)"
      ]
     },
     "execution_count": 83,
     "metadata": {},
     "output_type": "execute_result"
    }
   ],
   "source": [
    "selected_word_count.toarray()[0:100].sum(axis=1).shape #sum across words for different reviews"
   ]
  },
  {
   "cell_type": "code",
   "execution_count": 84,
   "metadata": {
    "collapsed": false
   },
   "outputs": [
    {
     "data": {
      "text/plain": [
       "(1000001, 9)"
      ]
     },
     "execution_count": 84,
     "metadata": {},
     "output_type": "execute_result"
    }
   ],
   "source": [
    "japanese_wc = selected_word_count.toarray()\n",
    "japanese_wc.shape"
   ]
  },
  {
   "cell_type": "markdown",
   "metadata": {},
   "source": [
    "Lets select only those with at least 5 mentions of the words which seems a bit low but ..."
   ]
  },
  {
   "cell_type": "code",
   "execution_count": 122,
   "metadata": {
    "collapsed": false
   },
   "outputs": [
    {
     "data": {
      "text/plain": [
       "array([[ 5,  0,  0, ...,  0,  0,  0],\n",
       "       [ 8,  0,  0, ...,  0,  0,  0],\n",
       "       [ 9,  0,  0, ...,  0,  0,  0],\n",
       "       ..., \n",
       "       [12,  0,  0, ...,  0,  0,  0],\n",
       "       [ 7,  0,  0, ...,  0,  0,  0],\n",
       "       [ 6,  0,  0, ...,  0,  0,  0]])"
      ]
     },
     "execution_count": 122,
     "metadata": {},
     "output_type": "execute_result"
    }
   ],
   "source": [
    "japanese_wc[japanese_wc.sum(axis=1)>5]"
   ]
  },
  {
   "cell_type": "code",
   "execution_count": 123,
   "metadata": {
    "collapsed": false
   },
   "outputs": [
    {
     "data": {
      "text/plain": [
       "array([  1340,   1368,   3398, ..., 995974, 996542, 996610])"
      ]
     },
     "execution_count": 123,
     "metadata": {},
     "output_type": "execute_result"
    }
   ],
   "source": [
    "np.where(japanese_wc.sum(axis=1)>5)[0]"
   ]
  },
  {
   "cell_type": "code",
   "execution_count": 124,
   "metadata": {
    "collapsed": false
   },
   "outputs": [],
   "source": [
    "japanese_biz_id = reviews.loc[np.where(japanese_wc.sum(axis=1)>5)[0], 'business_id'].unique()"
   ]
  },
  {
   "cell_type": "code",
   "execution_count": 126,
   "metadata": {
    "collapsed": false
   },
   "outputs": [
    {
     "data": {
      "text/html": [
       "<div>\n",
       "<table border=\"1\" class=\"dataframe\">\n",
       "  <thead>\n",
       "    <tr style=\"text-align: right;\">\n",
       "      <th></th>\n",
       "      <th>name</th>\n",
       "      <th>city</th>\n",
       "      <th>stars</th>\n",
       "    </tr>\n",
       "  </thead>\n",
       "  <tbody>\n",
       "    <tr>\n",
       "      <th>162</th>\n",
       "      <td>Shinano Sushi Bar &amp; Japanese Cuisine</td>\n",
       "      <td>Solon</td>\n",
       "      <td>4.0</td>\n",
       "    </tr>\n",
       "    <tr>\n",
       "      <th>164</th>\n",
       "      <td>Yogi's Grill</td>\n",
       "      <td>Phoenix</td>\n",
       "      <td>4.0</td>\n",
       "    </tr>\n",
       "    <tr>\n",
       "      <th>537</th>\n",
       "      <td>Koi Sushi Bar &amp; Grill</td>\n",
       "      <td>Peoria</td>\n",
       "      <td>3.0</td>\n",
       "    </tr>\n",
       "    <tr>\n",
       "      <th>803</th>\n",
       "      <td>Sushi Xtra</td>\n",
       "      <td>Toronto</td>\n",
       "      <td>3.0</td>\n",
       "    </tr>\n",
       "    <tr>\n",
       "      <th>822</th>\n",
       "      <td>Sushi Garden</td>\n",
       "      <td>Toronto</td>\n",
       "      <td>3.0</td>\n",
       "    </tr>\n",
       "    <tr>\n",
       "      <th>1158</th>\n",
       "      <td>O-Ku Sushi</td>\n",
       "      <td>Charlotte</td>\n",
       "      <td>4.0</td>\n",
       "    </tr>\n",
       "    <tr>\n",
       "      <th>1193</th>\n",
       "      <td>The Signature Kitchen</td>\n",
       "      <td>Toronto</td>\n",
       "      <td>4.0</td>\n",
       "    </tr>\n",
       "    <tr>\n",
       "      <th>1682</th>\n",
       "      <td>Nobuya</td>\n",
       "      <td>Toronto</td>\n",
       "      <td>4.5</td>\n",
       "    </tr>\n",
       "    <tr>\n",
       "      <th>2491</th>\n",
       "      <td>TJ Hibachi &amp; Sushi Bar</td>\n",
       "      <td>North Olmsted</td>\n",
       "      <td>3.0</td>\n",
       "    </tr>\n",
       "    <tr>\n",
       "      <th>3025</th>\n",
       "      <td>Ame</td>\n",
       "      <td>Toronto</td>\n",
       "      <td>3.5</td>\n",
       "    </tr>\n",
       "    <tr>\n",
       "      <th>3249</th>\n",
       "      <td>Sushi Dan</td>\n",
       "      <td>Las Vegas</td>\n",
       "      <td>3.5</td>\n",
       "    </tr>\n",
       "    <tr>\n",
       "      <th>3691</th>\n",
       "      <td>Mariko Japanese Restaurant</td>\n",
       "      <td>Toronto</td>\n",
       "      <td>2.0</td>\n",
       "    </tr>\n",
       "    <tr>\n",
       "      <th>3946</th>\n",
       "      <td>Togoshi Ramen</td>\n",
       "      <td>Las Vegas</td>\n",
       "      <td>4.0</td>\n",
       "    </tr>\n",
       "    <tr>\n",
       "      <th>4105</th>\n",
       "      <td>Oishi Sushi</td>\n",
       "      <td>Stuttgart</td>\n",
       "      <td>4.0</td>\n",
       "    </tr>\n",
       "    <tr>\n",
       "      <th>4449</th>\n",
       "      <td>China A Gogo</td>\n",
       "      <td>Henderson</td>\n",
       "      <td>4.0</td>\n",
       "    </tr>\n",
       "    <tr>\n",
       "      <th>4574</th>\n",
       "      <td>Sushi Kim Restaurant</td>\n",
       "      <td>Pittsburgh</td>\n",
       "      <td>3.0</td>\n",
       "    </tr>\n",
       "    <tr>\n",
       "      <th>4641</th>\n",
       "      <td>Sea Stone</td>\n",
       "      <td>Las Vegas</td>\n",
       "      <td>3.0</td>\n",
       "    </tr>\n",
       "    <tr>\n",
       "      <th>5038</th>\n",
       "      <td>Tanked Fish Sushi</td>\n",
       "      <td>Phoenix</td>\n",
       "      <td>4.0</td>\n",
       "    </tr>\n",
       "    <tr>\n",
       "      <th>5048</th>\n",
       "      <td>JJANGA Japanese Restaurant</td>\n",
       "      <td>Las Vegas</td>\n",
       "      <td>4.0</td>\n",
       "    </tr>\n",
       "    <tr>\n",
       "      <th>5333</th>\n",
       "      <td>Guu Izakaya Toronto</td>\n",
       "      <td>Toronto</td>\n",
       "      <td>4.0</td>\n",
       "    </tr>\n",
       "    <tr>\n",
       "      <th>5391</th>\n",
       "      <td>Kenzo Ramen</td>\n",
       "      <td>Toronto</td>\n",
       "      <td>3.0</td>\n",
       "    </tr>\n",
       "    <tr>\n",
       "      <th>5860</th>\n",
       "      <td>Fujimi Japanese Steakhouse</td>\n",
       "      <td>Matthews</td>\n",
       "      <td>3.5</td>\n",
       "    </tr>\n",
       "    <tr>\n",
       "      <th>6249</th>\n",
       "      <td>Takara Japanese Restaurant</td>\n",
       "      <td>Madison</td>\n",
       "      <td>3.5</td>\n",
       "    </tr>\n",
       "    <tr>\n",
       "      <th>6812</th>\n",
       "      <td>Asian Wok N Roll</td>\n",
       "      <td>Mississauga</td>\n",
       "      <td>3.0</td>\n",
       "    </tr>\n",
       "    <tr>\n",
       "      <th>6882</th>\n",
       "      <td>Osaka Japanese Steakhouse</td>\n",
       "      <td>Mesa</td>\n",
       "      <td>4.0</td>\n",
       "    </tr>\n",
       "    <tr>\n",
       "      <th>7261</th>\n",
       "      <td>Osaka Japanese Bistro</td>\n",
       "      <td>Las Vegas</td>\n",
       "      <td>4.0</td>\n",
       "    </tr>\n",
       "    <tr>\n",
       "      <th>7760</th>\n",
       "      <td>Sushi Station</td>\n",
       "      <td>Phoenix</td>\n",
       "      <td>4.0</td>\n",
       "    </tr>\n",
       "    <tr>\n",
       "      <th>8698</th>\n",
       "      <td>Japango</td>\n",
       "      <td>Toronto</td>\n",
       "      <td>4.0</td>\n",
       "    </tr>\n",
       "    <tr>\n",
       "      <th>8939</th>\n",
       "      <td>Mizu Japanese Sushi Restaurant</td>\n",
       "      <td>Parma</td>\n",
       "      <td>4.5</td>\n",
       "    </tr>\n",
       "    <tr>\n",
       "      <th>9031</th>\n",
       "      <td>Mai &amp; Sushi</td>\n",
       "      <td>Stuttgart</td>\n",
       "      <td>4.5</td>\n",
       "    </tr>\n",
       "    <tr>\n",
       "      <th>...</th>\n",
       "      <td>...</td>\n",
       "      <td>...</td>\n",
       "      <td>...</td>\n",
       "    </tr>\n",
       "    <tr>\n",
       "      <th>135621</th>\n",
       "      <td>Narai Thai + Sushi</td>\n",
       "      <td>Scottsdale</td>\n",
       "      <td>4.0</td>\n",
       "    </tr>\n",
       "    <tr>\n",
       "      <th>135778</th>\n",
       "      <td>Kanda Sushi Bar</td>\n",
       "      <td>Brossard</td>\n",
       "      <td>3.0</td>\n",
       "    </tr>\n",
       "    <tr>\n",
       "      <th>136564</th>\n",
       "      <td>Yama Japanese Restaurant</td>\n",
       "      <td>Toronto</td>\n",
       "      <td>3.5</td>\n",
       "    </tr>\n",
       "    <tr>\n",
       "      <th>137208</th>\n",
       "      <td>Shogun Sushi &amp; Ramen</td>\n",
       "      <td>Richmond Hill</td>\n",
       "      <td>2.5</td>\n",
       "    </tr>\n",
       "    <tr>\n",
       "      <th>138189</th>\n",
       "      <td>Yo Sushi</td>\n",
       "      <td>City of Edinburgh</td>\n",
       "      <td>3.5</td>\n",
       "    </tr>\n",
       "    <tr>\n",
       "      <th>138982</th>\n",
       "      <td>Golden Palace</td>\n",
       "      <td>Monroeville</td>\n",
       "      <td>4.0</td>\n",
       "    </tr>\n",
       "    <tr>\n",
       "      <th>139318</th>\n",
       "      <td>Sushi Maru and Ramen</td>\n",
       "      <td>Markham</td>\n",
       "      <td>2.5</td>\n",
       "    </tr>\n",
       "    <tr>\n",
       "      <th>139499</th>\n",
       "      <td>Aeoshi Cafe</td>\n",
       "      <td>Cleveland</td>\n",
       "      <td>4.0</td>\n",
       "    </tr>\n",
       "    <tr>\n",
       "      <th>140412</th>\n",
       "      <td>Sushi Hero</td>\n",
       "      <td>Las Vegas</td>\n",
       "      <td>5.0</td>\n",
       "    </tr>\n",
       "    <tr>\n",
       "      <th>140431</th>\n",
       "      <td>Samurai Japanese Steakhouse &amp; Sushi</td>\n",
       "      <td>Henderson</td>\n",
       "      <td>4.0</td>\n",
       "    </tr>\n",
       "    <tr>\n",
       "      <th>140454</th>\n",
       "      <td>VIP Sushi and Karaoke</td>\n",
       "      <td>Las Vegas</td>\n",
       "      <td>5.0</td>\n",
       "    </tr>\n",
       "    <tr>\n",
       "      <th>140485</th>\n",
       "      <td>Koji Sushi Bar and China Bistro</td>\n",
       "      <td>Las Vegas</td>\n",
       "      <td>3.5</td>\n",
       "    </tr>\n",
       "    <tr>\n",
       "      <th>140728</th>\n",
       "      <td>Ni Ji Sushi</td>\n",
       "      <td>Toronto</td>\n",
       "      <td>4.0</td>\n",
       "    </tr>\n",
       "    <tr>\n",
       "      <th>140854</th>\n",
       "      <td>Teriyaki Sushi Express</td>\n",
       "      <td>Fitchburg</td>\n",
       "      <td>4.0</td>\n",
       "    </tr>\n",
       "    <tr>\n",
       "      <th>141048</th>\n",
       "      <td>The Sushi Bar</td>\n",
       "      <td>Toronto</td>\n",
       "      <td>4.0</td>\n",
       "    </tr>\n",
       "    <tr>\n",
       "      <th>141681</th>\n",
       "      <td>Sushi Banzai</td>\n",
       "      <td>Las Vegas</td>\n",
       "      <td>3.0</td>\n",
       "    </tr>\n",
       "    <tr>\n",
       "      <th>141804</th>\n",
       "      <td>Restaurant Muramoto</td>\n",
       "      <td>Madison</td>\n",
       "      <td>3.5</td>\n",
       "    </tr>\n",
       "    <tr>\n",
       "      <th>141980</th>\n",
       "      <td>Beach Sushi House</td>\n",
       "      <td>Toronto</td>\n",
       "      <td>4.0</td>\n",
       "    </tr>\n",
       "    <tr>\n",
       "      <th>142372</th>\n",
       "      <td>FAI SUSHI</td>\n",
       "      <td>Stuttgart</td>\n",
       "      <td>3.0</td>\n",
       "    </tr>\n",
       "    <tr>\n",
       "      <th>142437</th>\n",
       "      <td>Ichi Bowl</td>\n",
       "      <td>Phoenix</td>\n",
       "      <td>3.5</td>\n",
       "    </tr>\n",
       "    <tr>\n",
       "      <th>142537</th>\n",
       "      <td>j-pop Lounge</td>\n",
       "      <td>Las Vegas</td>\n",
       "      <td>2.5</td>\n",
       "    </tr>\n",
       "    <tr>\n",
       "      <th>142803</th>\n",
       "      <td>Fish Market Restaurant</td>\n",
       "      <td>Phoenix</td>\n",
       "      <td>3.5</td>\n",
       "    </tr>\n",
       "    <tr>\n",
       "      <th>142809</th>\n",
       "      <td>Kyouka Ramen</td>\n",
       "      <td>Toronto</td>\n",
       "      <td>4.0</td>\n",
       "    </tr>\n",
       "    <tr>\n",
       "      <th>143066</th>\n",
       "      <td>Fresh Cup</td>\n",
       "      <td>Las Vegas</td>\n",
       "      <td>4.0</td>\n",
       "    </tr>\n",
       "    <tr>\n",
       "      <th>143103</th>\n",
       "      <td>Ritz Asia</td>\n",
       "      <td>Phoenix</td>\n",
       "      <td>3.0</td>\n",
       "    </tr>\n",
       "    <tr>\n",
       "      <th>143122</th>\n",
       "      <td>Teharu Sushi</td>\n",
       "      <td>Scottsdale</td>\n",
       "      <td>4.0</td>\n",
       "    </tr>\n",
       "    <tr>\n",
       "      <th>143250</th>\n",
       "      <td>Sushi Moto</td>\n",
       "      <td>North York</td>\n",
       "      <td>4.0</td>\n",
       "    </tr>\n",
       "    <tr>\n",
       "      <th>143347</th>\n",
       "      <td>Toku Gawa Japanese Restaurant</td>\n",
       "      <td>Etobicoke</td>\n",
       "      <td>4.0</td>\n",
       "    </tr>\n",
       "    <tr>\n",
       "      <th>143948</th>\n",
       "      <td>Aki Matsuri Festival</td>\n",
       "      <td>Las Vegas</td>\n",
       "      <td>3.0</td>\n",
       "    </tr>\n",
       "    <tr>\n",
       "      <th>143963</th>\n",
       "      <td>I Zu Japanese Restaurant</td>\n",
       "      <td>Toronto</td>\n",
       "      <td>3.5</td>\n",
       "    </tr>\n",
       "  </tbody>\n",
       "</table>\n",
       "<p>505 rows × 3 columns</p>\n",
       "</div>"
      ],
      "text/plain": [
       "                                        name               city  stars\n",
       "162     Shinano Sushi Bar & Japanese Cuisine              Solon    4.0\n",
       "164                             Yogi's Grill            Phoenix    4.0\n",
       "537                    Koi Sushi Bar & Grill             Peoria    3.0\n",
       "803                               Sushi Xtra            Toronto    3.0\n",
       "822                             Sushi Garden            Toronto    3.0\n",
       "1158                              O-Ku Sushi          Charlotte    4.0\n",
       "1193                   The Signature Kitchen            Toronto    4.0\n",
       "1682                                  Nobuya            Toronto    4.5\n",
       "2491                  TJ Hibachi & Sushi Bar      North Olmsted    3.0\n",
       "3025                                     Ame            Toronto    3.5\n",
       "3249                               Sushi Dan          Las Vegas    3.5\n",
       "3691              Mariko Japanese Restaurant            Toronto    2.0\n",
       "3946                           Togoshi Ramen          Las Vegas    4.0\n",
       "4105                             Oishi Sushi          Stuttgart    4.0\n",
       "4449                            China A Gogo          Henderson    4.0\n",
       "4574                    Sushi Kim Restaurant         Pittsburgh    3.0\n",
       "4641                               Sea Stone          Las Vegas    3.0\n",
       "5038                       Tanked Fish Sushi            Phoenix    4.0\n",
       "5048              JJANGA Japanese Restaurant          Las Vegas    4.0\n",
       "5333                     Guu Izakaya Toronto            Toronto    4.0\n",
       "5391                             Kenzo Ramen            Toronto    3.0\n",
       "5860              Fujimi Japanese Steakhouse           Matthews    3.5\n",
       "6249              Takara Japanese Restaurant            Madison    3.5\n",
       "6812                        Asian Wok N Roll        Mississauga    3.0\n",
       "6882               Osaka Japanese Steakhouse               Mesa    4.0\n",
       "7261                   Osaka Japanese Bistro          Las Vegas    4.0\n",
       "7760                           Sushi Station            Phoenix    4.0\n",
       "8698                                 Japango            Toronto    4.0\n",
       "8939          Mizu Japanese Sushi Restaurant              Parma    4.5\n",
       "9031                             Mai & Sushi          Stuttgart    4.5\n",
       "...                                      ...                ...    ...\n",
       "135621                    Narai Thai + Sushi         Scottsdale    4.0\n",
       "135778                       Kanda Sushi Bar           Brossard    3.0\n",
       "136564              Yama Japanese Restaurant            Toronto    3.5\n",
       "137208                  Shogun Sushi & Ramen      Richmond Hill    2.5\n",
       "138189                              Yo Sushi  City of Edinburgh    3.5\n",
       "138982                         Golden Palace        Monroeville    4.0\n",
       "139318                  Sushi Maru and Ramen            Markham    2.5\n",
       "139499                           Aeoshi Cafe          Cleveland    4.0\n",
       "140412                            Sushi Hero          Las Vegas    5.0\n",
       "140431   Samurai Japanese Steakhouse & Sushi          Henderson    4.0\n",
       "140454                 VIP Sushi and Karaoke          Las Vegas    5.0\n",
       "140485       Koji Sushi Bar and China Bistro          Las Vegas    3.5\n",
       "140728                           Ni Ji Sushi            Toronto    4.0\n",
       "140854                Teriyaki Sushi Express          Fitchburg    4.0\n",
       "141048                         The Sushi Bar            Toronto    4.0\n",
       "141681                          Sushi Banzai          Las Vegas    3.0\n",
       "141804                   Restaurant Muramoto            Madison    3.5\n",
       "141980                     Beach Sushi House            Toronto    4.0\n",
       "142372                             FAI SUSHI          Stuttgart    3.0\n",
       "142437                             Ichi Bowl            Phoenix    3.5\n",
       "142537                          j-pop Lounge          Las Vegas    2.5\n",
       "142803                Fish Market Restaurant            Phoenix    3.5\n",
       "142809                          Kyouka Ramen            Toronto    4.0\n",
       "143066                             Fresh Cup          Las Vegas    4.0\n",
       "143103                             Ritz Asia            Phoenix    3.0\n",
       "143122                          Teharu Sushi         Scottsdale    4.0\n",
       "143250                            Sushi Moto         North York    4.0\n",
       "143347         Toku Gawa Japanese Restaurant          Etobicoke    4.0\n",
       "143948                  Aki Matsuri Festival          Las Vegas    3.0\n",
       "143963              I Zu Japanese Restaurant            Toronto    3.5\n",
       "\n",
       "[505 rows x 3 columns]"
      ]
     },
     "execution_count": 126,
     "metadata": {},
     "output_type": "execute_result"
    }
   ],
   "source": [
    "business[business.business_id.isin(japanese_biz_id)][['name', 'city', 'stars']]"
   ]
  },
  {
   "cell_type": "markdown",
   "metadata": {},
   "source": [
    "We have found a good number of Japanese restaurants and after going through the list looks like they are all true positives!"
   ]
  },
  {
   "cell_type": "markdown",
   "metadata": {},
   "source": []
  },
  {
   "cell_type": "code",
   "execution_count": null,
   "metadata": {
    "collapsed": true
   },
   "outputs": [],
   "source": []
  }
 ],
 "metadata": {
  "anaconda-cloud": {},
  "kernelspec": {
   "display_name": "Python 3",
   "language": "python",
   "name": "python3"
  },
  "language_info": {
   "codemirror_mode": {
    "name": "ipython",
    "version": 3
   },
   "file_extension": ".py",
   "mimetype": "text/x-python",
   "name": "python",
   "nbconvert_exporter": "python",
   "pygments_lexer": "ipython3",
   "version": "3.6.0"
  }
 },
 "nbformat": 4,
 "nbformat_minor": 1
}
